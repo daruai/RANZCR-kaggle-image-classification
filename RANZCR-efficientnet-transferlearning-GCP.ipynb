{
 "cells": [
  {
   "cell_type": "code",
   "execution_count": 1,
   "metadata": {
    "_cell_guid": "b1076dfc-b9ad-4769-8c92-a6c4dae69d19",
    "_uuid": "8f2839f25d086af736a60e9eeb907d3b93b6e0e5"
   },
   "outputs": [],
   "source": [
    "# This Python 3 environment comes with many helpful analytics libraries installed\n",
    "# It is defined by the kaggle/python Docker image: https://github.com/kaggle/docker-python\n",
    "# For example, here's several helpful packages to load\n",
    "\n",
    "import numpy as np # linear algebra\n",
    "import pandas as pd # data processing, CSV file I/O (e.g. pd.read_csv)\n",
    "\n",
    "# Input data files are available in the read-only \"../input/\" directory\n",
    "# For example, running this (by clicking run or pressing Shift+Enter) will list all files under the input directory\n",
    "\n",
    "import os\n",
    "#for dirname, _, filenames in os.walk('/kaggle/input'):\n",
    "#    for filename in filenames:\n",
    "#        print(os.path.join(dirname, filename))\n",
    "\n",
    "# You can write up to 20GB to the current directory (/kaggle/working/) that gets preserved as output when you create a version using \"Save & Run All\" \n",
    "# You can also write temporary files to /kaggle/temp/, but they won't be saved outside of the current session"
   ]
  },
  {
   "cell_type": "code",
   "execution_count": 2,
   "metadata": {},
   "outputs": [],
   "source": [
    "import matplotlib.pyplot as plt"
   ]
  },
  {
   "cell_type": "markdown",
   "metadata": {},
   "source": [
    "# Read data"
   ]
  },
  {
   "cell_type": "code",
   "execution_count": 3,
   "metadata": {
    "_cell_guid": "79c7e3d0-c299-4dcb-8224-4455121ee9b0",
    "_uuid": "d629ff2d2480ee46fbb7e2d37f6b5fab8052498a"
   },
   "outputs": [
    {
     "name": "stdout",
     "output_type": "stream",
     "text": [
      "Number of train images 30083\n",
      "Number of test images 3582\n"
     ]
    },
    {
     "data": {
      "text/html": [
       "<div>\n",
       "<style scoped>\n",
       "    .dataframe tbody tr th:only-of-type {\n",
       "        vertical-align: middle;\n",
       "    }\n",
       "\n",
       "    .dataframe tbody tr th {\n",
       "        vertical-align: top;\n",
       "    }\n",
       "\n",
       "    .dataframe thead th {\n",
       "        text-align: right;\n",
       "    }\n",
       "</style>\n",
       "<table border=\"1\" class=\"dataframe\">\n",
       "  <thead>\n",
       "    <tr style=\"text-align: right;\">\n",
       "      <th></th>\n",
       "      <th>StudyInstanceUID</th>\n",
       "      <th>ETT - Abnormal</th>\n",
       "      <th>ETT - Borderline</th>\n",
       "      <th>ETT - Normal</th>\n",
       "      <th>NGT - Abnormal</th>\n",
       "      <th>NGT - Borderline</th>\n",
       "      <th>NGT - Incompletely Imaged</th>\n",
       "      <th>NGT - Normal</th>\n",
       "      <th>CVC - Abnormal</th>\n",
       "      <th>CVC - Borderline</th>\n",
       "      <th>CVC - Normal</th>\n",
       "      <th>Swan Ganz Catheter Present</th>\n",
       "      <th>PatientID</th>\n",
       "    </tr>\n",
       "  </thead>\n",
       "  <tbody>\n",
       "    <tr>\n",
       "      <th>0</th>\n",
       "      <td>1.2.826.0.1.3680043.8.498.26697628953273228189...</td>\n",
       "      <td>0</td>\n",
       "      <td>0</td>\n",
       "      <td>0</td>\n",
       "      <td>0</td>\n",
       "      <td>0</td>\n",
       "      <td>0</td>\n",
       "      <td>1</td>\n",
       "      <td>0</td>\n",
       "      <td>0</td>\n",
       "      <td>0</td>\n",
       "      <td>0</td>\n",
       "      <td>ec89415d1</td>\n",
       "    </tr>\n",
       "    <tr>\n",
       "      <th>1</th>\n",
       "      <td>1.2.826.0.1.3680043.8.498.46302891597398758759...</td>\n",
       "      <td>0</td>\n",
       "      <td>0</td>\n",
       "      <td>1</td>\n",
       "      <td>0</td>\n",
       "      <td>0</td>\n",
       "      <td>1</td>\n",
       "      <td>0</td>\n",
       "      <td>0</td>\n",
       "      <td>0</td>\n",
       "      <td>1</td>\n",
       "      <td>0</td>\n",
       "      <td>bf4c6da3c</td>\n",
       "    </tr>\n",
       "    <tr>\n",
       "      <th>2</th>\n",
       "      <td>1.2.826.0.1.3680043.8.498.23819260719748494858...</td>\n",
       "      <td>0</td>\n",
       "      <td>0</td>\n",
       "      <td>0</td>\n",
       "      <td>0</td>\n",
       "      <td>0</td>\n",
       "      <td>0</td>\n",
       "      <td>0</td>\n",
       "      <td>0</td>\n",
       "      <td>1</td>\n",
       "      <td>0</td>\n",
       "      <td>0</td>\n",
       "      <td>3fc1c97e5</td>\n",
       "    </tr>\n",
       "    <tr>\n",
       "      <th>3</th>\n",
       "      <td>1.2.826.0.1.3680043.8.498.68286643202323212801...</td>\n",
       "      <td>0</td>\n",
       "      <td>0</td>\n",
       "      <td>0</td>\n",
       "      <td>0</td>\n",
       "      <td>0</td>\n",
       "      <td>0</td>\n",
       "      <td>0</td>\n",
       "      <td>1</td>\n",
       "      <td>0</td>\n",
       "      <td>0</td>\n",
       "      <td>0</td>\n",
       "      <td>c31019814</td>\n",
       "    </tr>\n",
       "    <tr>\n",
       "      <th>4</th>\n",
       "      <td>1.2.826.0.1.3680043.8.498.10050203009225938259...</td>\n",
       "      <td>0</td>\n",
       "      <td>0</td>\n",
       "      <td>0</td>\n",
       "      <td>0</td>\n",
       "      <td>0</td>\n",
       "      <td>0</td>\n",
       "      <td>0</td>\n",
       "      <td>0</td>\n",
       "      <td>0</td>\n",
       "      <td>1</td>\n",
       "      <td>0</td>\n",
       "      <td>207685cd1</td>\n",
       "    </tr>\n",
       "    <tr>\n",
       "      <th>5</th>\n",
       "      <td>1.2.826.0.1.3680043.8.498.11707076266253086830...</td>\n",
       "      <td>0</td>\n",
       "      <td>0</td>\n",
       "      <td>1</td>\n",
       "      <td>0</td>\n",
       "      <td>0</td>\n",
       "      <td>0</td>\n",
       "      <td>1</td>\n",
       "      <td>0</td>\n",
       "      <td>0</td>\n",
       "      <td>1</td>\n",
       "      <td>0</td>\n",
       "      <td>8260896cf</td>\n",
       "    </tr>\n",
       "    <tr>\n",
       "      <th>6</th>\n",
       "      <td>1.2.826.0.1.3680043.8.498.23133310896792275593...</td>\n",
       "      <td>0</td>\n",
       "      <td>0</td>\n",
       "      <td>0</td>\n",
       "      <td>0</td>\n",
       "      <td>0</td>\n",
       "      <td>0</td>\n",
       "      <td>0</td>\n",
       "      <td>0</td>\n",
       "      <td>1</td>\n",
       "      <td>1</td>\n",
       "      <td>0</td>\n",
       "      <td>f6147af3f</td>\n",
       "    </tr>\n",
       "    <tr>\n",
       "      <th>7</th>\n",
       "      <td>1.2.826.0.1.3680043.8.498.17332833449968516367...</td>\n",
       "      <td>0</td>\n",
       "      <td>0</td>\n",
       "      <td>1</td>\n",
       "      <td>0</td>\n",
       "      <td>0</td>\n",
       "      <td>0</td>\n",
       "      <td>1</td>\n",
       "      <td>0</td>\n",
       "      <td>1</td>\n",
       "      <td>0</td>\n",
       "      <td>0</td>\n",
       "      <td>27413587b</td>\n",
       "    </tr>\n",
       "    <tr>\n",
       "      <th>8</th>\n",
       "      <td>1.2.826.0.1.3680043.8.498.91266853519846682206...</td>\n",
       "      <td>0</td>\n",
       "      <td>0</td>\n",
       "      <td>0</td>\n",
       "      <td>0</td>\n",
       "      <td>0</td>\n",
       "      <td>1</td>\n",
       "      <td>0</td>\n",
       "      <td>0</td>\n",
       "      <td>0</td>\n",
       "      <td>1</td>\n",
       "      <td>0</td>\n",
       "      <td>2edf3dce3</td>\n",
       "    </tr>\n",
       "    <tr>\n",
       "      <th>9</th>\n",
       "      <td>1.2.826.0.1.3680043.8.498.12706894217669234973...</td>\n",
       "      <td>0</td>\n",
       "      <td>1</td>\n",
       "      <td>0</td>\n",
       "      <td>0</td>\n",
       "      <td>0</td>\n",
       "      <td>0</td>\n",
       "      <td>1</td>\n",
       "      <td>0</td>\n",
       "      <td>0</td>\n",
       "      <td>1</td>\n",
       "      <td>0</td>\n",
       "      <td>3d5e7832e</td>\n",
       "    </tr>\n",
       "    <tr>\n",
       "      <th>10</th>\n",
       "      <td>1.2.826.0.1.3680043.8.498.21553435248897151659...</td>\n",
       "      <td>0</td>\n",
       "      <td>0</td>\n",
       "      <td>1</td>\n",
       "      <td>1</td>\n",
       "      <td>0</td>\n",
       "      <td>0</td>\n",
       "      <td>1</td>\n",
       "      <td>0</td>\n",
       "      <td>0</td>\n",
       "      <td>1</td>\n",
       "      <td>0</td>\n",
       "      <td>00f261590</td>\n",
       "    </tr>\n",
       "    <tr>\n",
       "      <th>11</th>\n",
       "      <td>1.2.826.0.1.3680043.8.498.84472839875948876829...</td>\n",
       "      <td>0</td>\n",
       "      <td>0</td>\n",
       "      <td>0</td>\n",
       "      <td>0</td>\n",
       "      <td>0</td>\n",
       "      <td>0</td>\n",
       "      <td>0</td>\n",
       "      <td>0</td>\n",
       "      <td>0</td>\n",
       "      <td>1</td>\n",
       "      <td>0</td>\n",
       "      <td>2cf8f57b2</td>\n",
       "    </tr>\n",
       "    <tr>\n",
       "      <th>12</th>\n",
       "      <td>1.2.826.0.1.3680043.8.498.96906149082473772016...</td>\n",
       "      <td>0</td>\n",
       "      <td>0</td>\n",
       "      <td>0</td>\n",
       "      <td>0</td>\n",
       "      <td>0</td>\n",
       "      <td>0</td>\n",
       "      <td>0</td>\n",
       "      <td>0</td>\n",
       "      <td>0</td>\n",
       "      <td>1</td>\n",
       "      <td>0</td>\n",
       "      <td>7c4fe9fae</td>\n",
       "    </tr>\n",
       "    <tr>\n",
       "      <th>13</th>\n",
       "      <td>1.2.826.0.1.3680043.8.498.71008408169501434503...</td>\n",
       "      <td>0</td>\n",
       "      <td>0</td>\n",
       "      <td>0</td>\n",
       "      <td>0</td>\n",
       "      <td>0</td>\n",
       "      <td>0</td>\n",
       "      <td>0</td>\n",
       "      <td>0</td>\n",
       "      <td>0</td>\n",
       "      <td>1</td>\n",
       "      <td>0</td>\n",
       "      <td>7d2c4c9e3</td>\n",
       "    </tr>\n",
       "    <tr>\n",
       "      <th>14</th>\n",
       "      <td>1.2.826.0.1.3680043.8.498.11974864693507588499...</td>\n",
       "      <td>0</td>\n",
       "      <td>0</td>\n",
       "      <td>0</td>\n",
       "      <td>0</td>\n",
       "      <td>0</td>\n",
       "      <td>0</td>\n",
       "      <td>0</td>\n",
       "      <td>0</td>\n",
       "      <td>0</td>\n",
       "      <td>1</td>\n",
       "      <td>0</td>\n",
       "      <td>b88984341</td>\n",
       "    </tr>\n",
       "    <tr>\n",
       "      <th>15</th>\n",
       "      <td>1.2.826.0.1.3680043.8.498.43799120279114891015...</td>\n",
       "      <td>0</td>\n",
       "      <td>0</td>\n",
       "      <td>0</td>\n",
       "      <td>0</td>\n",
       "      <td>0</td>\n",
       "      <td>0</td>\n",
       "      <td>0</td>\n",
       "      <td>0</td>\n",
       "      <td>0</td>\n",
       "      <td>1</td>\n",
       "      <td>0</td>\n",
       "      <td>e4a97ba2f</td>\n",
       "    </tr>\n",
       "    <tr>\n",
       "      <th>16</th>\n",
       "      <td>1.2.826.0.1.3680043.8.498.93114846183726176746...</td>\n",
       "      <td>0</td>\n",
       "      <td>0</td>\n",
       "      <td>0</td>\n",
       "      <td>0</td>\n",
       "      <td>0</td>\n",
       "      <td>0</td>\n",
       "      <td>0</td>\n",
       "      <td>0</td>\n",
       "      <td>0</td>\n",
       "      <td>1</td>\n",
       "      <td>0</td>\n",
       "      <td>e4a97ba2f</td>\n",
       "    </tr>\n",
       "    <tr>\n",
       "      <th>17</th>\n",
       "      <td>1.2.826.0.1.3680043.8.498.58764130686095794423...</td>\n",
       "      <td>0</td>\n",
       "      <td>0</td>\n",
       "      <td>0</td>\n",
       "      <td>0</td>\n",
       "      <td>0</td>\n",
       "      <td>0</td>\n",
       "      <td>0</td>\n",
       "      <td>0</td>\n",
       "      <td>0</td>\n",
       "      <td>1</td>\n",
       "      <td>0</td>\n",
       "      <td>d1a2e61aa</td>\n",
       "    </tr>\n",
       "    <tr>\n",
       "      <th>18</th>\n",
       "      <td>1.2.826.0.1.3680043.8.498.12874505746046378224...</td>\n",
       "      <td>0</td>\n",
       "      <td>0</td>\n",
       "      <td>0</td>\n",
       "      <td>0</td>\n",
       "      <td>0</td>\n",
       "      <td>0</td>\n",
       "      <td>0</td>\n",
       "      <td>0</td>\n",
       "      <td>0</td>\n",
       "      <td>1</td>\n",
       "      <td>0</td>\n",
       "      <td>d46ba6d06</td>\n",
       "    </tr>\n",
       "    <tr>\n",
       "      <th>19</th>\n",
       "      <td>1.2.826.0.1.3680043.8.498.10129559062963528496...</td>\n",
       "      <td>0</td>\n",
       "      <td>0</td>\n",
       "      <td>1</td>\n",
       "      <td>0</td>\n",
       "      <td>0</td>\n",
       "      <td>0</td>\n",
       "      <td>1</td>\n",
       "      <td>1</td>\n",
       "      <td>0</td>\n",
       "      <td>0</td>\n",
       "      <td>0</td>\n",
       "      <td>9ebe3d714</td>\n",
       "    </tr>\n",
       "  </tbody>\n",
       "</table>\n",
       "</div>"
      ],
      "text/plain": [
       "                                     StudyInstanceUID  ETT - Abnormal  \\\n",
       "0   1.2.826.0.1.3680043.8.498.26697628953273228189...               0   \n",
       "1   1.2.826.0.1.3680043.8.498.46302891597398758759...               0   \n",
       "2   1.2.826.0.1.3680043.8.498.23819260719748494858...               0   \n",
       "3   1.2.826.0.1.3680043.8.498.68286643202323212801...               0   \n",
       "4   1.2.826.0.1.3680043.8.498.10050203009225938259...               0   \n",
       "5   1.2.826.0.1.3680043.8.498.11707076266253086830...               0   \n",
       "6   1.2.826.0.1.3680043.8.498.23133310896792275593...               0   \n",
       "7   1.2.826.0.1.3680043.8.498.17332833449968516367...               0   \n",
       "8   1.2.826.0.1.3680043.8.498.91266853519846682206...               0   \n",
       "9   1.2.826.0.1.3680043.8.498.12706894217669234973...               0   \n",
       "10  1.2.826.0.1.3680043.8.498.21553435248897151659...               0   \n",
       "11  1.2.826.0.1.3680043.8.498.84472839875948876829...               0   \n",
       "12  1.2.826.0.1.3680043.8.498.96906149082473772016...               0   \n",
       "13  1.2.826.0.1.3680043.8.498.71008408169501434503...               0   \n",
       "14  1.2.826.0.1.3680043.8.498.11974864693507588499...               0   \n",
       "15  1.2.826.0.1.3680043.8.498.43799120279114891015...               0   \n",
       "16  1.2.826.0.1.3680043.8.498.93114846183726176746...               0   \n",
       "17  1.2.826.0.1.3680043.8.498.58764130686095794423...               0   \n",
       "18  1.2.826.0.1.3680043.8.498.12874505746046378224...               0   \n",
       "19  1.2.826.0.1.3680043.8.498.10129559062963528496...               0   \n",
       "\n",
       "    ETT - Borderline  ETT - Normal  NGT - Abnormal  NGT - Borderline  \\\n",
       "0                  0             0               0                 0   \n",
       "1                  0             1               0                 0   \n",
       "2                  0             0               0                 0   \n",
       "3                  0             0               0                 0   \n",
       "4                  0             0               0                 0   \n",
       "5                  0             1               0                 0   \n",
       "6                  0             0               0                 0   \n",
       "7                  0             1               0                 0   \n",
       "8                  0             0               0                 0   \n",
       "9                  1             0               0                 0   \n",
       "10                 0             1               1                 0   \n",
       "11                 0             0               0                 0   \n",
       "12                 0             0               0                 0   \n",
       "13                 0             0               0                 0   \n",
       "14                 0             0               0                 0   \n",
       "15                 0             0               0                 0   \n",
       "16                 0             0               0                 0   \n",
       "17                 0             0               0                 0   \n",
       "18                 0             0               0                 0   \n",
       "19                 0             1               0                 0   \n",
       "\n",
       "    NGT - Incompletely Imaged  NGT - Normal  CVC - Abnormal  CVC - Borderline  \\\n",
       "0                           0             1               0                 0   \n",
       "1                           1             0               0                 0   \n",
       "2                           0             0               0                 1   \n",
       "3                           0             0               1                 0   \n",
       "4                           0             0               0                 0   \n",
       "5                           0             1               0                 0   \n",
       "6                           0             0               0                 1   \n",
       "7                           0             1               0                 1   \n",
       "8                           1             0               0                 0   \n",
       "9                           0             1               0                 0   \n",
       "10                          0             1               0                 0   \n",
       "11                          0             0               0                 0   \n",
       "12                          0             0               0                 0   \n",
       "13                          0             0               0                 0   \n",
       "14                          0             0               0                 0   \n",
       "15                          0             0               0                 0   \n",
       "16                          0             0               0                 0   \n",
       "17                          0             0               0                 0   \n",
       "18                          0             0               0                 0   \n",
       "19                          0             1               1                 0   \n",
       "\n",
       "    CVC - Normal  Swan Ganz Catheter Present  PatientID  \n",
       "0              0                           0  ec89415d1  \n",
       "1              1                           0  bf4c6da3c  \n",
       "2              0                           0  3fc1c97e5  \n",
       "3              0                           0  c31019814  \n",
       "4              1                           0  207685cd1  \n",
       "5              1                           0  8260896cf  \n",
       "6              1                           0  f6147af3f  \n",
       "7              0                           0  27413587b  \n",
       "8              1                           0  2edf3dce3  \n",
       "9              1                           0  3d5e7832e  \n",
       "10             1                           0  00f261590  \n",
       "11             1                           0  2cf8f57b2  \n",
       "12             1                           0  7c4fe9fae  \n",
       "13             1                           0  7d2c4c9e3  \n",
       "14             1                           0  b88984341  \n",
       "15             1                           0  e4a97ba2f  \n",
       "16             1                           0  e4a97ba2f  \n",
       "17             1                           0  d1a2e61aa  \n",
       "18             1                           0  d46ba6d06  \n",
       "19             0                           0  9ebe3d714  "
      ]
     },
     "execution_count": 3,
     "metadata": {},
     "output_type": "execute_result"
    }
   ],
   "source": [
    "INPUT_PATH = \"/home/jupyter/DATA/\"#\"/kaggle/input/ranzcr-clip-catheter-line-classification/\"\n",
    "TRAIN_PATH=INPUT_PATH+\"train/\"\n",
    "TEST_PATH=INPUT_PATH+\"test/\"\n",
    "\n",
    "print(f\"Number of train images {len(os.listdir(TRAIN_PATH))}\\nNumber of test images {len(os.listdir(TEST_PATH))}\")\n",
    "\n",
    "ANNOTATIONS=INPUT_PATH+\"train.csv\"\n",
    "\n",
    "df_annotations=pd.read_csv(ANNOTATIONS)\n",
    "df_annotations.head(20)"
   ]
  },
  {
   "cell_type": "markdown",
   "metadata": {},
   "source": [
    "# Exploration\n",
    "## Number of images per patient"
   ]
  },
  {
   "cell_type": "code",
   "execution_count": 4,
   "metadata": {},
   "outputs": [
    {
     "data": {
      "text/plain": [
       "Text(0.5, 0, 'Number of samples per patient')"
      ]
     },
     "execution_count": 4,
     "metadata": {},
     "output_type": "execute_result"
    },
    {
     "data": {
      "image/png": "[encoded data removed]",
      "text/plain": [
       "<Figure size 432x288 with 1 Axes>"
      ]
     },
     "metadata": {
      "needs_background": "light"
     },
     "output_type": "display_data"
    }
   ],
   "source": [
    "df_annotations.PatientID.value_counts().hist(bins=30)\n",
    "plt.xlabel(\"Number of samples per patient\")"
   ]
  },
  {
   "cell_type": "markdown",
   "metadata": {},
   "source": [
    "## Targets: Percentages for each case"
   ]
  },
  {
   "cell_type": "code",
   "execution_count": 5,
   "metadata": {},
   "outputs": [],
   "source": [
    "targets=[\"ETT - Abnormal\",\"ETT - Borderline\",\"ETT - Normal\",\n",
    "         \"NGT - Abnormal\",\"NGT - Borderline\",\"NGT - Incompletely Imaged\",\"NGT - Normal\",\n",
    "         \"CVC - Abnormal\",\"CVC - Borderline\",\"CVC - Normal\",\n",
    "         \"Swan Ganz Catheter Present\"]"
   ]
  },
  {
   "cell_type": "code",
   "execution_count": 6,
   "metadata": {},
   "outputs": [
    {
     "name": "stdout",
     "output_type": "stream",
     "text": [
      "ETT - Abnormal is present in 0.00% (79) of samples\n",
      "ETT - Borderline is present in 0.04% (1138) of samples\n",
      "ETT - Normal is present in 0.24% (7240) of samples\n",
      "NGT - Abnormal is present in 0.01% (279) of samples\n",
      "NGT - Borderline is present in 0.02% (529) of samples\n",
      "NGT - Incompletely Imaged is present in 0.09% (2748) of samples\n",
      "NGT - Normal is present in 0.16% (4797) of samples\n",
      "CVC - Abnormal is present in 0.11% (3195) of samples\n",
      "CVC - Borderline is present in 0.28% (8460) of samples\n",
      "CVC - Normal is present in 0.71% (21324) of samples\n",
      "Swan Ganz Catheter Present is present in 0.03% (830) of samples\n"
     ]
    }
   ],
   "source": [
    "for tgt in targets:\n",
    "    print(f\"{tgt} is present in {df_annotations[tgt].sum()/df_annotations.shape[0]:.2f}% ({df_annotations[tgt].sum()}) of samples\")"
   ]
  },
  {
   "cell_type": "markdown",
   "metadata": {},
   "source": [
    "## Targets: Coocurrence"
   ]
  },
  {
   "cell_type": "code",
   "execution_count": 7,
   "metadata": {},
   "outputs": [
    {
     "data": {
      "text/plain": [
       "Text(0.5, 0, 'Number of positive targets')"
      ]
     },
     "execution_count": 7,
     "metadata": {},
     "output_type": "execute_result"
    },
    {
     "data": {
      "image/png": "[encoded data removed]",
      "text/plain": [
       "<Figure size 432x288 with 1 Axes>"
      ]
     },
     "metadata": {
      "needs_background": "light"
     },
     "output_type": "display_data"
    }
   ],
   "source": [
    "# Number of positive targets for sample\n",
    "df_annotations[targets].sum(axis=1).value_counts().plot.bar()\n",
    "plt.xlabel(\"Number of positive targets\")"
   ]
  },
  {
   "cell_type": "markdown",
   "metadata": {},
   "source": [
    "## Targets: Coocurrence - Most frequent target combination"
   ]
  },
  {
   "cell_type": "code",
   "execution_count": 8,
   "metadata": {},
   "outputs": [
    {
     "data": {
      "text/html": [
       "<div>\n",
       "<style scoped>\n",
       "    .dataframe tbody tr th:only-of-type {\n",
       "        vertical-align: middle;\n",
       "    }\n",
       "\n",
       "    .dataframe tbody tr th {\n",
       "        vertical-align: top;\n",
       "    }\n",
       "\n",
       "    .dataframe thead th {\n",
       "        text-align: right;\n",
       "    }\n",
       "</style>\n",
       "<table border=\"1\" class=\"dataframe\">\n",
       "  <thead>\n",
       "    <tr style=\"text-align: right;\">\n",
       "      <th></th>\n",
       "      <th>all_targets</th>\n",
       "      <th>count</th>\n",
       "    </tr>\n",
       "  </thead>\n",
       "  <tbody>\n",
       "    <tr>\n",
       "      <th>0</th>\n",
       "      <td>(0, 0, 0, 0, 0, 0, 0, 0, 0, 1, 0)</td>\n",
       "      <td>12763</td>\n",
       "    </tr>\n",
       "    <tr>\n",
       "      <th>1</th>\n",
       "      <td>(0, 0, 0, 0, 0, 0, 0, 0, 1, 0, 0)</td>\n",
       "      <td>4038</td>\n",
       "    </tr>\n",
       "    <tr>\n",
       "      <th>2</th>\n",
       "      <td>(0, 0, 0, 0, 0, 0, 0, 1, 0, 0, 0)</td>\n",
       "      <td>1678</td>\n",
       "    </tr>\n",
       "    <tr>\n",
       "      <th>3</th>\n",
       "      <td>(0, 0, 1, 0, 0, 0, 1, 0, 0, 1, 0)</td>\n",
       "      <td>1428</td>\n",
       "    </tr>\n",
       "    <tr>\n",
       "      <th>4</th>\n",
       "      <td>(0, 0, 0, 0, 0, 0, 0, 0, 1, 1, 0)</td>\n",
       "      <td>973</td>\n",
       "    </tr>\n",
       "    <tr>\n",
       "      <th>...</th>\n",
       "      <td>...</td>\n",
       "      <td>...</td>\n",
       "    </tr>\n",
       "    <tr>\n",
       "      <th>206</th>\n",
       "      <td>(0, 0, 0, 0, 1, 0, 0, 1, 1, 1, 0)</td>\n",
       "      <td>1</td>\n",
       "    </tr>\n",
       "    <tr>\n",
       "      <th>207</th>\n",
       "      <td>(1, 0, 0, 0, 0, 0, 1, 0, 1, 0, 1)</td>\n",
       "      <td>1</td>\n",
       "    </tr>\n",
       "    <tr>\n",
       "      <th>208</th>\n",
       "      <td>(0, 0, 1, 0, 0, 1, 1, 0, 1, 0, 0)</td>\n",
       "      <td>1</td>\n",
       "    </tr>\n",
       "    <tr>\n",
       "      <th>209</th>\n",
       "      <td>(0, 0, 0, 1, 0, 0, 0, 1, 0, 1, 0)</td>\n",
       "      <td>1</td>\n",
       "    </tr>\n",
       "    <tr>\n",
       "      <th>210</th>\n",
       "      <td>(0, 0, 1, 0, 1, 1, 0, 0, 1, 1, 0)</td>\n",
       "      <td>1</td>\n",
       "    </tr>\n",
       "  </tbody>\n",
       "</table>\n",
       "<p>211 rows × 2 columns</p>\n",
       "</div>"
      ],
      "text/plain": [
       "                           all_targets  count\n",
       "0    (0, 0, 0, 0, 0, 0, 0, 0, 0, 1, 0)  12763\n",
       "1    (0, 0, 0, 0, 0, 0, 0, 0, 1, 0, 0)   4038\n",
       "2    (0, 0, 0, 0, 0, 0, 0, 1, 0, 0, 0)   1678\n",
       "3    (0, 0, 1, 0, 0, 0, 1, 0, 0, 1, 0)   1428\n",
       "4    (0, 0, 0, 0, 0, 0, 0, 0, 1, 1, 0)    973\n",
       "..                                 ...    ...\n",
       "206  (0, 0, 0, 0, 1, 0, 0, 1, 1, 1, 0)      1\n",
       "207  (1, 0, 0, 0, 0, 0, 1, 0, 1, 0, 1)      1\n",
       "208  (0, 0, 1, 0, 0, 1, 1, 0, 1, 0, 0)      1\n",
       "209  (0, 0, 0, 1, 0, 0, 0, 1, 0, 1, 0)      1\n",
       "210  (0, 0, 1, 0, 1, 1, 0, 0, 1, 1, 0)      1\n",
       "\n",
       "[211 rows x 2 columns]"
      ]
     },
     "execution_count": 8,
     "metadata": {},
     "output_type": "execute_result"
    }
   ],
   "source": [
    "df_annotations[\"all_targets\"]=df_annotations[targets].values.tolist()\n",
    "targets_counts=df_annotations[\"all_targets\"].apply(tuple).value_counts()\n",
    "targets_counts=targets_counts.reset_index()\n",
    "targets_counts.columns=[\"all_targets\",\"count\"]\n",
    "targets_counts"
   ]
  },
  {
   "cell_type": "code",
   "execution_count": 9,
   "metadata": {},
   "outputs": [
    {
     "data": {
      "text/html": [
       "<div>\n",
       "<style scoped>\n",
       "    .dataframe tbody tr th:only-of-type {\n",
       "        vertical-align: middle;\n",
       "    }\n",
       "\n",
       "    .dataframe tbody tr th {\n",
       "        vertical-align: top;\n",
       "    }\n",
       "\n",
       "    .dataframe thead th {\n",
       "        text-align: right;\n",
       "    }\n",
       "</style>\n",
       "<table border=\"1\" class=\"dataframe\">\n",
       "  <thead>\n",
       "    <tr style=\"text-align: right;\">\n",
       "      <th></th>\n",
       "      <th>all_targets</th>\n",
       "      <th>count</th>\n",
       "    </tr>\n",
       "  </thead>\n",
       "  <tbody>\n",
       "    <tr>\n",
       "      <th>0</th>\n",
       "      <td>CVC - Normal</td>\n",
       "      <td>12763</td>\n",
       "    </tr>\n",
       "    <tr>\n",
       "      <th>1</th>\n",
       "      <td>CVC - Borderline</td>\n",
       "      <td>4038</td>\n",
       "    </tr>\n",
       "    <tr>\n",
       "      <th>2</th>\n",
       "      <td>CVC - Abnormal</td>\n",
       "      <td>1678</td>\n",
       "    </tr>\n",
       "    <tr>\n",
       "      <th>3</th>\n",
       "      <td>ETT - Normal -- NGT - Normal -- CVC - Normal</td>\n",
       "      <td>1428</td>\n",
       "    </tr>\n",
       "    <tr>\n",
       "      <th>4</th>\n",
       "      <td>CVC - Borderline -- CVC - Normal</td>\n",
       "      <td>973</td>\n",
       "    </tr>\n",
       "  </tbody>\n",
       "</table>\n",
       "</div>"
      ],
      "text/plain": [
       "                                    all_targets  count\n",
       "0                                  CVC - Normal  12763\n",
       "1                              CVC - Borderline   4038\n",
       "2                                CVC - Abnormal   1678\n",
       "3  ETT - Normal -- NGT - Normal -- CVC - Normal   1428\n",
       "4              CVC - Borderline -- CVC - Normal    973"
      ]
     },
     "execution_count": 9,
     "metadata": {},
     "output_type": "execute_result"
    }
   ],
   "source": [
    "def get_target_string(target_bools):\n",
    "    positions=np.where(target_bools)[0]\n",
    "    return \" -- \".join([targets[pos] for pos in positions])\n",
    "\n",
    "targets_counts.all_targets=targets_counts.all_targets.apply(get_target_string)\n",
    "targets_counts.head()"
   ]
  },
  {
   "cell_type": "markdown",
   "metadata": {},
   "source": [
    "## Machine learning first approach"
   ]
  },
  {
   "cell_type": "code",
   "execution_count": 10,
   "metadata": {},
   "outputs": [
    {
     "name": "stdout",
     "output_type": "stream",
     "text": [
      "Tensorflow version: 2.3.1\n"
     ]
    }
   ],
   "source": [
    "import tensorflow as tf\n",
    "print(f\"Tensorflow version: {tf.__version__}\")"
   ]
  },
  {
   "cell_type": "code",
   "execution_count": 11,
   "metadata": {},
   "outputs": [
    {
     "data": {
      "text/plain": [
       "[PhysicalDevice(name='/physical_device:CPU:0', device_type='CPU'),\n",
       " PhysicalDevice(name='/physical_device:XLA_CPU:0', device_type='XLA_CPU')]"
      ]
     },
     "execution_count": 11,
     "metadata": {},
     "output_type": "execute_result"
    }
   ],
   "source": [
    "tf.config.list_physical_devices(\n",
    "    device_type=None\n",
    ")"
   ]
  },
  {
   "cell_type": "code",
   "execution_count": 11,
   "metadata": {},
   "outputs": [
    {
     "name": "stdout",
     "output_type": "stream",
     "text": [
      "Not connected to a TPU runtime. Using CPU/GPU strategy\n",
      "WARNING:tensorflow:There are non-GPU devices in `tf.distribute.Strategy`, not using nccl allreduce.\n",
      "INFO:tensorflow:Using MirroredStrategy with devices ('/job:localhost/replica:0/task:0/device:CPU:0',)\n"
     ]
    }
   ],
   "source": [
    "# Define the strategy\n",
    "\n",
    "try:\n",
    "    tpu = tf.distribute.cluster_resolver.TPUClusterResolver()  # TPU detection\n",
    "    print(\"Running on TPU \", tpu.cluster_spec().as_dict()[\"worker\"])\n",
    "    tf.config.experimental_connect_to_cluster(tpu)\n",
    "    tf.tpu.experimental.initialize_tpu_system(tpu)\n",
    "    strategy = tf.distribute.experimental.TPUStrategy(tpu)\n",
    "    \n",
    "except ValueError:\n",
    "    print(\"Not connected to a TPU runtime. Using CPU/GPU strategy\")\n",
    "    strategy = tf.distribute.MirroredStrategy()"
   ]
  },
  {
   "cell_type": "code",
   "execution_count": 12,
   "metadata": {},
   "outputs": [
    {
     "name": "stdout",
     "output_type": "stream",
     "text": [
      "Model: \"sequential\"\n",
      "_________________________________________________________________\n",
      "Layer (type)                 Output Shape              Param #   \n",
      "=================================================================\n",
      "efficientnetb7 (Functional)  (None, None, None, 2560)  64097687  \n",
      "_________________________________________________________________\n",
      "flatten (Flatten)            (None, 655360)            0         \n",
      "_________________________________________________________________\n",
      "dense (Dense)                (None, 512)               335544832 \n",
      "_________________________________________________________________\n",
      "dense_1 (Dense)              (None, 11)                5643      \n",
      "=================================================================\n",
      "Total params: 399,648,162\n",
      "Trainable params: 399,337,435\n",
      "Non-trainable params: 310,727\n",
      "_________________________________________________________________\n"
     ]
    }
   ],
   "source": [
    "from tensorflow.keras.applications import EfficientNetB7\n",
    "\n",
    "# Transfer learning using efficientnet\n",
    "\n",
    "IMG_SIZE=512\n",
    "NUM_CLASSES=len(targets)\n",
    "efficientnet=EfficientNetB7 #ResNet152\n",
    "\n",
    "\n",
    "with strategy.scope():\n",
    "    model = tf.keras.Sequential([\n",
    "              tf.keras.layers.Input(shape=(IMG_SIZE, IMG_SIZE, 3)),\n",
    "              efficientnet(include_top=False, weights='imagenet',),\n",
    "              tf.keras.layers.Flatten(),\n",
    "              tf.keras.layers.Dense(512,activation='relu'),\n",
    "              tf.keras.layers.Dense(NUM_CLASSES,activation=\"sigmoid\"), # multi-label\n",
    "    ])\n",
    "    \n",
    "    #model.compile(\n",
    "    #    optimizer=\"adam\", loss=\"categorical_crossentropy\", metrics=[\"accuracy\"])\n",
    "    \n",
    "    \n",
    "\n",
    "    model.compile(\n",
    "        optimizer='adam',\n",
    "        loss='binary_crossentropy',\n",
    "        metrics=[tf.keras.metrics.AUC(multi_label=True)])\n",
    "    \n",
    "\n",
    "    \n",
    "model.summary()"
   ]
  },
  {
   "cell_type": "code",
   "execution_count": 13,
   "metadata": {},
   "outputs": [
    {
     "data": {
      "image/png": "[encoded data removed]",
      "text/plain": [
       "<IPython.core.display.Image object>"
      ]
     },
     "execution_count": 13,
     "metadata": {},
     "output_type": "execute_result"
    }
   ],
   "source": [
    "from tensorflow.keras.utils import plot_model\n",
    "plot_model(model, to_file='model.png', show_shapes=True)\n",
    "from IPython.display import Image\n",
    "Image(filename='model.png') "
   ]
  },
  {
   "cell_type": "code",
   "execution_count": 14,
   "metadata": {},
   "outputs": [],
   "source": [
    "for layer in model.layers:\n",
    "    if layer.name == \"efficientnetb3\":\n",
    "        layer.trainable=False"
   ]
  },
  {
   "cell_type": "code",
   "execution_count": 15,
   "metadata": {},
   "outputs": [
    {
     "name": "stdout",
     "output_type": "stream",
     "text": [
      "Model: \"sequential\"\n",
      "_________________________________________________________________\n",
      "Layer (type)                 Output Shape              Param #   \n",
      "=================================================================\n",
      "efficientnetb7 (Functional)  (None, None, None, 2560)  64097687  \n",
      "_________________________________________________________________\n",
      "flatten (Flatten)            (None, 655360)            0         \n",
      "_________________________________________________________________\n",
      "dense (Dense)                (None, 512)               335544832 \n",
      "_________________________________________________________________\n",
      "dense_1 (Dense)              (None, 11)                5643      \n",
      "=================================================================\n",
      "Total params: 399,648,162\n",
      "Trainable params: 399,337,435\n",
      "Non-trainable params: 310,727\n",
      "_________________________________________________________________\n"
     ]
    }
   ],
   "source": [
    "model.summary()"
   ]
  },
  {
   "cell_type": "markdown",
   "metadata": {},
   "source": [
    "### Input functions"
   ]
  },
  {
   "cell_type": "code",
   "execution_count": 16,
   "metadata": {},
   "outputs": [],
   "source": [
    "#from kaggle_datasets import KaggleDatasets\n",
    "PATH_GCS = INPUT_PATH#KaggleDatasets().get_gcs_path(\"ranzcr-clip-catheter-line-classification\")\n",
    "\n",
    "PATH_GCS_TRAINING=PATH_GCS+\"/train_tfrecords/\"+\"*.tfrec\"\n",
    "filenames = tf.io.gfile.glob(PATH_GCS_TRAINING)\n",
    "raw_dataset = tf.data.TFRecordDataset(filenames)\n",
    "\n",
    "\n",
    "# Inspect a raw tfrecord\n",
    "#for raw_record in raw_dataset.take(1):\n",
    "#      print(repr(raw_record))"
   ]
  },
  {
   "cell_type": "code",
   "execution_count": 17,
   "metadata": {},
   "outputs": [],
   "source": [
    "# https://www.tensorflow.org/tutorials/load_data/tfrecord#reading_a_tfrecord_file\n",
    "# https://www.kaggle.com/venkat555/ranzcr-clip-tpu-densenet-with-kfold\n",
    "\n",
    "feature_description = {\n",
    "    \"StudyInstanceUID\"           : tf.io.FixedLenFeature([], tf.string),\n",
    "    \"image\"                      : tf.io.FixedLenFeature([], tf.string),\n",
    "    \"ETT - Abnormal\"             : tf.io.FixedLenFeature([], tf.int64), \n",
    "    \"ETT - Borderline\"           : tf.io.FixedLenFeature([], tf.int64), \n",
    "    \"ETT - Normal\"               : tf.io.FixedLenFeature([], tf.int64), \n",
    "    \"NGT - Abnormal\"             : tf.io.FixedLenFeature([], tf.int64), \n",
    "    \"NGT - Borderline\"           : tf.io.FixedLenFeature([], tf.int64), \n",
    "    \"NGT - Incompletely Imaged\"  : tf.io.FixedLenFeature([], tf.int64), \n",
    "    \"NGT - Normal\"               : tf.io.FixedLenFeature([], tf.int64), \n",
    "    \"CVC - Abnormal\"             : tf.io.FixedLenFeature([], tf.int64), \n",
    "    \"CVC - Borderline\"           : tf.io.FixedLenFeature([], tf.int64), \n",
    "    \"CVC - Normal\"               : tf.io.FixedLenFeature([], tf.int64), \n",
    "    \"Swan Ganz Catheter Present\" : tf.io.FixedLenFeature([], tf.int64),\n",
    "}\n",
    "\n",
    "def _parse_function(example_proto):\n",
    "  # Parse the input `tf.train.Example` proto using the dictionary above.\n",
    "  return tf.io.parse_single_example(example_proto, feature_description)\n",
    "\n",
    "\n",
    "def decode_image(image_data):\n",
    "    image = tf.image.decode_jpeg(image_data, channels=3)\n",
    "    image = tf.cast(image, tf.float32) / 255.0\n",
    "    image = tf.reshape(image, [1024,1024, 3])\n",
    "    return image\n",
    "\n",
    "def input_fc(example_proto):\n",
    "    example = _parse_function(example_proto)\n",
    "    image = decode_image(example['image']) \n",
    "    image = tf.image.resize(image, [IMG_SIZE,IMG_SIZE])\n",
    "    \n",
    "    label=[tf.cast(example[lbl],tf.float32) for lbl in targets]\n",
    "    #label=tf.one_hot(label, len(targets))\n",
    "    \n",
    "    return image,label"
   ]
  },
  {
   "cell_type": "code",
   "execution_count": 18,
   "metadata": {},
   "outputs": [],
   "source": [
    "# Define a basic image augmentation with tensoflow\n",
    "\n",
    "def augmentation(image, label):\n",
    "    image = tf.image.random_flip_left_right(image)\n",
    "    image = tf.image.random_flip_up_down(image)\n",
    "    image = tf.image.random_brightness(image, max_delta=0.5)\n",
    "    image = tf.image.random_saturation(image, 0, 2)\n",
    "    image = tf.image.adjust_saturation(image, 3)\n",
    "    return image, label"
   ]
  },
  {
   "cell_type": "code",
   "execution_count": 19,
   "metadata": {},
   "outputs": [],
   "source": [
    "def get_dataset(filenames,shuffle,batch_size,mode=\"train\"):\n",
    "    AUTOTUNE=tf.data.experimental.AUTOTUNE\n",
    "    dataset = tf.data.TFRecordDataset(filenames, num_parallel_reads=AUTOTUNE)\n",
    "    dataset = dataset.map(input_fc, num_parallel_calls=AUTOTUNE)\n",
    "    if mode==\"train\": \n",
    "        dataset = dataset.map(augmentation, num_parallel_calls=AUTOTUNE)\n",
    "        dataset = dataset.repeat()\n",
    "        dataset = dataset.shuffle(shuffle)\n",
    "    dataset = dataset.batch(batch_size)\n",
    "    dataset = dataset.prefetch(AUTOTUNE)\n",
    "    return dataset"
   ]
  },
  {
   "cell_type": "code",
   "execution_count": 20,
   "metadata": {},
   "outputs": [
    {
     "name": "stderr",
     "output_type": "stream",
     "text": [
      "Clipping input data to the valid range for imshow with RGB data ([0..1] for floats or [0..255] for integers).\n"
     ]
    },
    {
     "name": "stdout",
     "output_type": "stream",
     "text": [
      "(1, 512, 512, 3) (1, 11)\n",
      "[[0. 0. 0. 0. 0. 0. 0. 0. 1. 1. 0.]]\n"
     ]
    },
    {
     "data": {
      "image/png": "[encoded data removed]",
      "text/plain": [
       "<Figure size 432x288 with 1 Axes>"
      ]
     },
     "metadata": {
      "needs_background": "light"
     },
     "output_type": "display_data"
    }
   ],
   "source": [
    " for image,label in get_dataset(filenames,shuffle=1,batch_size=1).take(1):\n",
    "    plt.figure()\n",
    "    plt.imshow(image.numpy()[0])\n",
    "    print(image.numpy().shape, label.numpy().shape)\n",
    "    print(label.numpy())"
   ]
  },
  {
   "cell_type": "code",
   "execution_count": 21,
   "metadata": {},
   "outputs": [],
   "source": [
    "## Train - validation split and input functions\n",
    "len(filenames)\n",
    "filenames_train = filenames[:12]\n",
    "filenames_val = filenames[12:]\n",
    "\n",
    "BATCH_SIZE = 256\n",
    "SHUFFLE = 8\n",
    "\n",
    "\n",
    "import re\n",
    "# From https://www.kaggle.com/venkat555/ranzcr-clip-tpu-densenet-with-kfold\n",
    "def count_data_items(filenames):\n",
    "    #the number of data items is written in the name of the .tfrec files, i.e. flowers00-230.tfrec = 230 data items\n",
    "    n = [int(re.compile(r\"-([0-9]*)\\.\").search(filename).group(1)) for filename in filenames]\n",
    "    return np.sum(n)\n",
    "    #c = 0\n",
    "    #for filename in filenames:\n",
    "    #    c += sum(1 for _ in tf.data.TFRecordDataset(filename))\n",
    "    #return c\n",
    "NUM_TRAINING_IMAGES = count_data_items(filenames_train)\n",
    "NUM_TEST_IMAGES = count_data_items(filenames_val)\n",
    "STEPS_PER_EPOCH = NUM_TRAINING_IMAGES // BATCH_SIZE\n",
    "\n",
    "def get_train_dataset():\n",
    "    return get_dataset(filenames_train,BATCH_SIZE,SHUFFLE)\n",
    "\n",
    "\n",
    "def get_val_dataset():\n",
    "    return get_dataset(filenames_val,BATCH_SIZE,SHUFFLE,mode=\"val\")\n",
    "\n"
   ]
  },
  {
   "cell_type": "code",
   "execution_count": 22,
   "metadata": {},
   "outputs": [
    {
     "data": {
      "text/plain": [
       "88"
      ]
     },
     "execution_count": 22,
     "metadata": {},
     "output_type": "execute_result"
    }
   ],
   "source": [
    "STEPS_PER_EPOCH"
   ]
  },
  {
   "cell_type": "code",
   "execution_count": 23,
   "metadata": {},
   "outputs": [
    {
     "data": {
      "text/html": [
       "\n",
       "      <iframe id=\"tensorboard-frame-4472686d3f293e61\" width=\"100%\" height=\"800\" frameborder=\"0\">\n",
       "      </iframe>\n",
       "      <script>\n",
       "        (function() {\n",
       "          const frame = document.getElementById(\"tensorboard-frame-4472686d3f293e61\");\n",
       "          const url = new URL(\"/\", window.location);\n",
       "          const port = 6006;\n",
       "          if (port) {\n",
       "            url.port = port;\n",
       "          }\n",
       "          frame.src = url;\n",
       "        })();\n",
       "      </script>\n",
       "    "
      ],
      "text/plain": [
       "<IPython.core.display.HTML object>"
      ]
     },
     "metadata": {},
     "output_type": "display_data"
    }
   ],
   "source": [
    "%load_ext tensorboard\n",
    "%tensorboard --logdir logs"
   ]
  },
  {
   "cell_type": "code",
   "execution_count": null,
   "metadata": {},
   "outputs": [
    {
     "name": "stdout",
     "output_type": "stream",
     "text": [
      "Epoch 1/2000\n",
      "WARNING:tensorflow:From /opt/conda/lib/python3.7/site-packages/tensorflow/python/data/ops/multi_device_iterator_ops.py:601: get_next_as_optional (from tensorflow.python.data.ops.iterator_ops) is deprecated and will be removed in a future version.\n",
      "Instructions for updating:\n",
      "Use `tf.data.Iterator.get_next_as_optional()` instead.\n"
     ]
    }
   ],
   "source": [
    "%%time\n",
    "EPOCHS=2000\n",
    "\n",
    "checkpoint = tf.keras.callbacks.ModelCheckpoint(\n",
    "    'model.h5', save_best_only=True, monitor='val_auc', mode='max')\n",
    "early_stopping = tf.keras.callbacks.EarlyStopping(monitor='val_loss', \n",
    "                                                  min_delta=0, \n",
    "                                                  patience=50, verbose=0, \n",
    "                                                  restore_best_weights=True)\n",
    "tensorboard_callback = tf.keras.callbacks.TensorBoard(\"logs\")    \n",
    "\n",
    "\n",
    "hist = model.fit(get_train_dataset(), epochs=EPOCHS,steps_per_epoch=STEPS_PER_EPOCH,\n",
    "                 validation_data=get_val_dataset(),\n",
    "                 callbacks=[checkpoint, early_stopping, tensorboard_callback],\n",
    "                 )"
   ]
  },
  {
   "cell_type": "code",
   "execution_count": null,
   "metadata": {},
   "outputs": [],
   "source": []
  },
  {
   "cell_type": "code",
   "execution_count": null,
   "metadata": {},
   "outputs": [],
   "source": []
  }
 ],
 "metadata": {
  "environment": {
   "name": "tf2-2-3-gpu.2-3.m59",
   "type": "gcloud",
   "uri": "gcr.io/deeplearning-platform-release/tf2-2-3-gpu.2-3:m59"
  },
  "kernelspec": {
   "display_name": "Python 3",
   "language": "python",
   "name": "python3"
  },
  "language_info": {
   "codemirror_mode": {
    "name": "ipython",
    "version": 3
   },
   "file_extension": ".py",
   "mimetype": "text/x-python",
   "name": "python",
   "nbconvert_exporter": "python",
   "pygments_lexer": "ipython3",
   "version": "3.7.8"
  }
 },
 "nbformat": 4,
 "nbformat_minor": 4
}
