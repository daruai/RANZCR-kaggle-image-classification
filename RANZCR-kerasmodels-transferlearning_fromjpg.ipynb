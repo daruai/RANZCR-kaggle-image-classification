{
 "cells": [
  {
   "cell_type": "code",
   "execution_count": 2,
   "metadata": {
    "_cell_guid": "b1076dfc-b9ad-4769-8c92-a6c4dae69d19",
    "_uuid": "8f2839f25d086af736a60e9eeb907d3b93b6e0e5"
   },
   "outputs": [],
   "source": [
    "# This Python 3 environment comes with many helpful analytics libraries installed\n",
    "# It is defined by the kaggle/python Docker image: https://github.com/kaggle/docker-python\n",
    "# For example, here's several helpful packages to load\n",
    "\n",
    "import numpy as np # linear algebra\n",
    "import pandas as pd # data processing, CSV file I/O (e.g. pd.read_csv)\n",
    "\n",
    "# Input data files are available in the read-only \"../input/\" directory\n",
    "# For example, running this (by clicking run or pressing Shift+Enter) will list all files under the input directory\n",
    "\n",
    "import os\n",
    "#for dirname, _, filenames in os.walk('/kaggle/input'):\n",
    "#    for filename in filenames:\n",
    "#        print(os.path.join(dirname, filename))\n",
    "\n",
    "# You can write up to 20GB to the current directory (/kaggle/working/) that gets preserved as output when you create a version using \"Save & Run All\" \n",
    "# You can also write temporary files to /kaggle/temp/, but they won't be saved outside of the current session"
   ]
  },
  {
   "cell_type": "code",
   "execution_count": 3,
   "metadata": {},
   "outputs": [],
   "source": [
    "import matplotlib.pyplot as plt"
   ]
  },
  {
   "cell_type": "markdown",
   "metadata": {},
   "source": [
    "# Read data"
   ]
  },
  {
   "cell_type": "code",
   "execution_count": 4,
   "metadata": {
    "_cell_guid": "79c7e3d0-c299-4dcb-8224-4455121ee9b0",
    "_uuid": "d629ff2d2480ee46fbb7e2d37f6b5fab8052498a"
   },
   "outputs": [
    {
     "name": "stdout",
     "output_type": "stream",
     "text": [
      "Number of train images 30083\n",
      "Number of test images 3582\n"
     ]
    },
    {
     "data": {
      "text/html": [
       "<div>\n",
       "<style scoped>\n",
       "    .dataframe tbody tr th:only-of-type {\n",
       "        vertical-align: middle;\n",
       "    }\n",
       "\n",
       "    .dataframe tbody tr th {\n",
       "        vertical-align: top;\n",
       "    }\n",
       "\n",
       "    .dataframe thead th {\n",
       "        text-align: right;\n",
       "    }\n",
       "</style>\n",
       "<table border=\"1\" class=\"dataframe\">\n",
       "  <thead>\n",
       "    <tr style=\"text-align: right;\">\n",
       "      <th></th>\n",
       "      <th>StudyInstanceUID</th>\n",
       "      <th>ETT - Abnormal</th>\n",
       "      <th>ETT - Borderline</th>\n",
       "      <th>ETT - Normal</th>\n",
       "      <th>NGT - Abnormal</th>\n",
       "      <th>NGT - Borderline</th>\n",
       "      <th>NGT - Incompletely Imaged</th>\n",
       "      <th>NGT - Normal</th>\n",
       "      <th>CVC - Abnormal</th>\n",
       "      <th>CVC - Borderline</th>\n",
       "      <th>CVC - Normal</th>\n",
       "      <th>Swan Ganz Catheter Present</th>\n",
       "      <th>PatientID</th>\n",
       "    </tr>\n",
       "  </thead>\n",
       "  <tbody>\n",
       "    <tr>\n",
       "      <th>0</th>\n",
       "      <td>1.2.826.0.1.3680043.8.498.26697628953273228189...</td>\n",
       "      <td>0</td>\n",
       "      <td>0</td>\n",
       "      <td>0</td>\n",
       "      <td>0</td>\n",
       "      <td>0</td>\n",
       "      <td>0</td>\n",
       "      <td>1</td>\n",
       "      <td>0</td>\n",
       "      <td>0</td>\n",
       "      <td>0</td>\n",
       "      <td>0</td>\n",
       "      <td>ec89415d1</td>\n",
       "    </tr>\n",
       "    <tr>\n",
       "      <th>1</th>\n",
       "      <td>1.2.826.0.1.3680043.8.498.46302891597398758759...</td>\n",
       "      <td>0</td>\n",
       "      <td>0</td>\n",
       "      <td>1</td>\n",
       "      <td>0</td>\n",
       "      <td>0</td>\n",
       "      <td>1</td>\n",
       "      <td>0</td>\n",
       "      <td>0</td>\n",
       "      <td>0</td>\n",
       "      <td>1</td>\n",
       "      <td>0</td>\n",
       "      <td>bf4c6da3c</td>\n",
       "    </tr>\n",
       "    <tr>\n",
       "      <th>2</th>\n",
       "      <td>1.2.826.0.1.3680043.8.498.23819260719748494858...</td>\n",
       "      <td>0</td>\n",
       "      <td>0</td>\n",
       "      <td>0</td>\n",
       "      <td>0</td>\n",
       "      <td>0</td>\n",
       "      <td>0</td>\n",
       "      <td>0</td>\n",
       "      <td>0</td>\n",
       "      <td>1</td>\n",
       "      <td>0</td>\n",
       "      <td>0</td>\n",
       "      <td>3fc1c97e5</td>\n",
       "    </tr>\n",
       "    <tr>\n",
       "      <th>3</th>\n",
       "      <td>1.2.826.0.1.3680043.8.498.68286643202323212801...</td>\n",
       "      <td>0</td>\n",
       "      <td>0</td>\n",
       "      <td>0</td>\n",
       "      <td>0</td>\n",
       "      <td>0</td>\n",
       "      <td>0</td>\n",
       "      <td>0</td>\n",
       "      <td>1</td>\n",
       "      <td>0</td>\n",
       "      <td>0</td>\n",
       "      <td>0</td>\n",
       "      <td>c31019814</td>\n",
       "    </tr>\n",
       "    <tr>\n",
       "      <th>4</th>\n",
       "      <td>1.2.826.0.1.3680043.8.498.10050203009225938259...</td>\n",
       "      <td>0</td>\n",
       "      <td>0</td>\n",
       "      <td>0</td>\n",
       "      <td>0</td>\n",
       "      <td>0</td>\n",
       "      <td>0</td>\n",
       "      <td>0</td>\n",
       "      <td>0</td>\n",
       "      <td>0</td>\n",
       "      <td>1</td>\n",
       "      <td>0</td>\n",
       "      <td>207685cd1</td>\n",
       "    </tr>\n",
       "    <tr>\n",
       "      <th>5</th>\n",
       "      <td>1.2.826.0.1.3680043.8.498.11707076266253086830...</td>\n",
       "      <td>0</td>\n",
       "      <td>0</td>\n",
       "      <td>1</td>\n",
       "      <td>0</td>\n",
       "      <td>0</td>\n",
       "      <td>0</td>\n",
       "      <td>1</td>\n",
       "      <td>0</td>\n",
       "      <td>0</td>\n",
       "      <td>1</td>\n",
       "      <td>0</td>\n",
       "      <td>8260896cf</td>\n",
       "    </tr>\n",
       "    <tr>\n",
       "      <th>6</th>\n",
       "      <td>1.2.826.0.1.3680043.8.498.23133310896792275593...</td>\n",
       "      <td>0</td>\n",
       "      <td>0</td>\n",
       "      <td>0</td>\n",
       "      <td>0</td>\n",
       "      <td>0</td>\n",
       "      <td>0</td>\n",
       "      <td>0</td>\n",
       "      <td>0</td>\n",
       "      <td>1</td>\n",
       "      <td>1</td>\n",
       "      <td>0</td>\n",
       "      <td>f6147af3f</td>\n",
       "    </tr>\n",
       "    <tr>\n",
       "      <th>7</th>\n",
       "      <td>1.2.826.0.1.3680043.8.498.17332833449968516367...</td>\n",
       "      <td>0</td>\n",
       "      <td>0</td>\n",
       "      <td>1</td>\n",
       "      <td>0</td>\n",
       "      <td>0</td>\n",
       "      <td>0</td>\n",
       "      <td>1</td>\n",
       "      <td>0</td>\n",
       "      <td>1</td>\n",
       "      <td>0</td>\n",
       "      <td>0</td>\n",
       "      <td>27413587b</td>\n",
       "    </tr>\n",
       "    <tr>\n",
       "      <th>8</th>\n",
       "      <td>1.2.826.0.1.3680043.8.498.91266853519846682206...</td>\n",
       "      <td>0</td>\n",
       "      <td>0</td>\n",
       "      <td>0</td>\n",
       "      <td>0</td>\n",
       "      <td>0</td>\n",
       "      <td>1</td>\n",
       "      <td>0</td>\n",
       "      <td>0</td>\n",
       "      <td>0</td>\n",
       "      <td>1</td>\n",
       "      <td>0</td>\n",
       "      <td>2edf3dce3</td>\n",
       "    </tr>\n",
       "    <tr>\n",
       "      <th>9</th>\n",
       "      <td>1.2.826.0.1.3680043.8.498.12706894217669234973...</td>\n",
       "      <td>0</td>\n",
       "      <td>1</td>\n",
       "      <td>0</td>\n",
       "      <td>0</td>\n",
       "      <td>0</td>\n",
       "      <td>0</td>\n",
       "      <td>1</td>\n",
       "      <td>0</td>\n",
       "      <td>0</td>\n",
       "      <td>1</td>\n",
       "      <td>0</td>\n",
       "      <td>3d5e7832e</td>\n",
       "    </tr>\n",
       "    <tr>\n",
       "      <th>10</th>\n",
       "      <td>1.2.826.0.1.3680043.8.498.21553435248897151659...</td>\n",
       "      <td>0</td>\n",
       "      <td>0</td>\n",
       "      <td>1</td>\n",
       "      <td>1</td>\n",
       "      <td>0</td>\n",
       "      <td>0</td>\n",
       "      <td>1</td>\n",
       "      <td>0</td>\n",
       "      <td>0</td>\n",
       "      <td>1</td>\n",
       "      <td>0</td>\n",
       "      <td>00f261590</td>\n",
       "    </tr>\n",
       "    <tr>\n",
       "      <th>11</th>\n",
       "      <td>1.2.826.0.1.3680043.8.498.84472839875948876829...</td>\n",
       "      <td>0</td>\n",
       "      <td>0</td>\n",
       "      <td>0</td>\n",
       "      <td>0</td>\n",
       "      <td>0</td>\n",
       "      <td>0</td>\n",
       "      <td>0</td>\n",
       "      <td>0</td>\n",
       "      <td>0</td>\n",
       "      <td>1</td>\n",
       "      <td>0</td>\n",
       "      <td>2cf8f57b2</td>\n",
       "    </tr>\n",
       "    <tr>\n",
       "      <th>12</th>\n",
       "      <td>1.2.826.0.1.3680043.8.498.96906149082473772016...</td>\n",
       "      <td>0</td>\n",
       "      <td>0</td>\n",
       "      <td>0</td>\n",
       "      <td>0</td>\n",
       "      <td>0</td>\n",
       "      <td>0</td>\n",
       "      <td>0</td>\n",
       "      <td>0</td>\n",
       "      <td>0</td>\n",
       "      <td>1</td>\n",
       "      <td>0</td>\n",
       "      <td>7c4fe9fae</td>\n",
       "    </tr>\n",
       "    <tr>\n",
       "      <th>13</th>\n",
       "      <td>1.2.826.0.1.3680043.8.498.71008408169501434503...</td>\n",
       "      <td>0</td>\n",
       "      <td>0</td>\n",
       "      <td>0</td>\n",
       "      <td>0</td>\n",
       "      <td>0</td>\n",
       "      <td>0</td>\n",
       "      <td>0</td>\n",
       "      <td>0</td>\n",
       "      <td>0</td>\n",
       "      <td>1</td>\n",
       "      <td>0</td>\n",
       "      <td>7d2c4c9e3</td>\n",
       "    </tr>\n",
       "    <tr>\n",
       "      <th>14</th>\n",
       "      <td>1.2.826.0.1.3680043.8.498.11974864693507588499...</td>\n",
       "      <td>0</td>\n",
       "      <td>0</td>\n",
       "      <td>0</td>\n",
       "      <td>0</td>\n",
       "      <td>0</td>\n",
       "      <td>0</td>\n",
       "      <td>0</td>\n",
       "      <td>0</td>\n",
       "      <td>0</td>\n",
       "      <td>1</td>\n",
       "      <td>0</td>\n",
       "      <td>b88984341</td>\n",
       "    </tr>\n",
       "    <tr>\n",
       "      <th>15</th>\n",
       "      <td>1.2.826.0.1.3680043.8.498.43799120279114891015...</td>\n",
       "      <td>0</td>\n",
       "      <td>0</td>\n",
       "      <td>0</td>\n",
       "      <td>0</td>\n",
       "      <td>0</td>\n",
       "      <td>0</td>\n",
       "      <td>0</td>\n",
       "      <td>0</td>\n",
       "      <td>0</td>\n",
       "      <td>1</td>\n",
       "      <td>0</td>\n",
       "      <td>e4a97ba2f</td>\n",
       "    </tr>\n",
       "    <tr>\n",
       "      <th>16</th>\n",
       "      <td>1.2.826.0.1.3680043.8.498.93114846183726176746...</td>\n",
       "      <td>0</td>\n",
       "      <td>0</td>\n",
       "      <td>0</td>\n",
       "      <td>0</td>\n",
       "      <td>0</td>\n",
       "      <td>0</td>\n",
       "      <td>0</td>\n",
       "      <td>0</td>\n",
       "      <td>0</td>\n",
       "      <td>1</td>\n",
       "      <td>0</td>\n",
       "      <td>e4a97ba2f</td>\n",
       "    </tr>\n",
       "    <tr>\n",
       "      <th>17</th>\n",
       "      <td>1.2.826.0.1.3680043.8.498.58764130686095794423...</td>\n",
       "      <td>0</td>\n",
       "      <td>0</td>\n",
       "      <td>0</td>\n",
       "      <td>0</td>\n",
       "      <td>0</td>\n",
       "      <td>0</td>\n",
       "      <td>0</td>\n",
       "      <td>0</td>\n",
       "      <td>0</td>\n",
       "      <td>1</td>\n",
       "      <td>0</td>\n",
       "      <td>d1a2e61aa</td>\n",
       "    </tr>\n",
       "    <tr>\n",
       "      <th>18</th>\n",
       "      <td>1.2.826.0.1.3680043.8.498.12874505746046378224...</td>\n",
       "      <td>0</td>\n",
       "      <td>0</td>\n",
       "      <td>0</td>\n",
       "      <td>0</td>\n",
       "      <td>0</td>\n",
       "      <td>0</td>\n",
       "      <td>0</td>\n",
       "      <td>0</td>\n",
       "      <td>0</td>\n",
       "      <td>1</td>\n",
       "      <td>0</td>\n",
       "      <td>d46ba6d06</td>\n",
       "    </tr>\n",
       "    <tr>\n",
       "      <th>19</th>\n",
       "      <td>1.2.826.0.1.3680043.8.498.10129559062963528496...</td>\n",
       "      <td>0</td>\n",
       "      <td>0</td>\n",
       "      <td>1</td>\n",
       "      <td>0</td>\n",
       "      <td>0</td>\n",
       "      <td>0</td>\n",
       "      <td>1</td>\n",
       "      <td>1</td>\n",
       "      <td>0</td>\n",
       "      <td>0</td>\n",
       "      <td>0</td>\n",
       "      <td>9ebe3d714</td>\n",
       "    </tr>\n",
       "  </tbody>\n",
       "</table>\n",
       "</div>"
      ],
      "text/plain": [
       "                                     StudyInstanceUID  ETT - Abnormal  \\\n",
       "0   1.2.826.0.1.3680043.8.498.26697628953273228189...               0   \n",
       "1   1.2.826.0.1.3680043.8.498.46302891597398758759...               0   \n",
       "2   1.2.826.0.1.3680043.8.498.23819260719748494858...               0   \n",
       "3   1.2.826.0.1.3680043.8.498.68286643202323212801...               0   \n",
       "4   1.2.826.0.1.3680043.8.498.10050203009225938259...               0   \n",
       "5   1.2.826.0.1.3680043.8.498.11707076266253086830...               0   \n",
       "6   1.2.826.0.1.3680043.8.498.23133310896792275593...               0   \n",
       "7   1.2.826.0.1.3680043.8.498.17332833449968516367...               0   \n",
       "8   1.2.826.0.1.3680043.8.498.91266853519846682206...               0   \n",
       "9   1.2.826.0.1.3680043.8.498.12706894217669234973...               0   \n",
       "10  1.2.826.0.1.3680043.8.498.21553435248897151659...               0   \n",
       "11  1.2.826.0.1.3680043.8.498.84472839875948876829...               0   \n",
       "12  1.2.826.0.1.3680043.8.498.96906149082473772016...               0   \n",
       "13  1.2.826.0.1.3680043.8.498.71008408169501434503...               0   \n",
       "14  1.2.826.0.1.3680043.8.498.11974864693507588499...               0   \n",
       "15  1.2.826.0.1.3680043.8.498.43799120279114891015...               0   \n",
       "16  1.2.826.0.1.3680043.8.498.93114846183726176746...               0   \n",
       "17  1.2.826.0.1.3680043.8.498.58764130686095794423...               0   \n",
       "18  1.2.826.0.1.3680043.8.498.12874505746046378224...               0   \n",
       "19  1.2.826.0.1.3680043.8.498.10129559062963528496...               0   \n",
       "\n",
       "    ETT - Borderline  ETT - Normal  NGT - Abnormal  NGT - Borderline  \\\n",
       "0                  0             0               0                 0   \n",
       "1                  0             1               0                 0   \n",
       "2                  0             0               0                 0   \n",
       "3                  0             0               0                 0   \n",
       "4                  0             0               0                 0   \n",
       "5                  0             1               0                 0   \n",
       "6                  0             0               0                 0   \n",
       "7                  0             1               0                 0   \n",
       "8                  0             0               0                 0   \n",
       "9                  1             0               0                 0   \n",
       "10                 0             1               1                 0   \n",
       "11                 0             0               0                 0   \n",
       "12                 0             0               0                 0   \n",
       "13                 0             0               0                 0   \n",
       "14                 0             0               0                 0   \n",
       "15                 0             0               0                 0   \n",
       "16                 0             0               0                 0   \n",
       "17                 0             0               0                 0   \n",
       "18                 0             0               0                 0   \n",
       "19                 0             1               0                 0   \n",
       "\n",
       "    NGT - Incompletely Imaged  NGT - Normal  CVC - Abnormal  CVC - Borderline  \\\n",
       "0                           0             1               0                 0   \n",
       "1                           1             0               0                 0   \n",
       "2                           0             0               0                 1   \n",
       "3                           0             0               1                 0   \n",
       "4                           0             0               0                 0   \n",
       "5                           0             1               0                 0   \n",
       "6                           0             0               0                 1   \n",
       "7                           0             1               0                 1   \n",
       "8                           1             0               0                 0   \n",
       "9                           0             1               0                 0   \n",
       "10                          0             1               0                 0   \n",
       "11                          0             0               0                 0   \n",
       "12                          0             0               0                 0   \n",
       "13                          0             0               0                 0   \n",
       "14                          0             0               0                 0   \n",
       "15                          0             0               0                 0   \n",
       "16                          0             0               0                 0   \n",
       "17                          0             0               0                 0   \n",
       "18                          0             0               0                 0   \n",
       "19                          0             1               1                 0   \n",
       "\n",
       "    CVC - Normal  Swan Ganz Catheter Present  PatientID  \n",
       "0              0                           0  ec89415d1  \n",
       "1              1                           0  bf4c6da3c  \n",
       "2              0                           0  3fc1c97e5  \n",
       "3              0                           0  c31019814  \n",
       "4              1                           0  207685cd1  \n",
       "5              1                           0  8260896cf  \n",
       "6              1                           0  f6147af3f  \n",
       "7              0                           0  27413587b  \n",
       "8              1                           0  2edf3dce3  \n",
       "9              1                           0  3d5e7832e  \n",
       "10             1                           0  00f261590  \n",
       "11             1                           0  2cf8f57b2  \n",
       "12             1                           0  7c4fe9fae  \n",
       "13             1                           0  7d2c4c9e3  \n",
       "14             1                           0  b88984341  \n",
       "15             1                           0  e4a97ba2f  \n",
       "16             1                           0  e4a97ba2f  \n",
       "17             1                           0  d1a2e61aa  \n",
       "18             1                           0  d46ba6d06  \n",
       "19             0                           0  9ebe3d714  "
      ]
     },
     "execution_count": 4,
     "metadata": {},
     "output_type": "execute_result"
    }
   ],
   "source": [
    "INPUT_PATH = \"/home/jupyter/DATA/\"#\"/kaggle/input/ranzcr-clip-catheter-line-classification/\"\n",
    "TRAIN_PATH=INPUT_PATH+\"train/\"\n",
    "TEST_PATH=INPUT_PATH+\"test/\"\n",
    "MODEL_BACKBONE=\"resnet50\"\n",
    "\n",
    "print(f\"Number of train images {len(os.listdir(TRAIN_PATH))}\\nNumber of test images {len(os.listdir(TEST_PATH))}\")\n",
    "\n",
    "ANNOTATIONS=INPUT_PATH+\"train.csv\"\n",
    "\n",
    "df_annotations=pd.read_csv(ANNOTATIONS)\n",
    "df_annotations.head(20)"
   ]
  },
  {
   "cell_type": "code",
   "execution_count": 5,
   "metadata": {},
   "outputs": [],
   "source": [
    "targets=[\"ETT - Abnormal\",\"ETT - Borderline\",\"ETT - Normal\",\n",
    "         \"NGT - Abnormal\",\"NGT - Borderline\",\"NGT - Incompletely Imaged\",\"NGT - Normal\",\n",
    "         \"CVC - Abnormal\",\"CVC - Borderline\",\"CVC - Normal\",\n",
    "         \"Swan Ganz Catheter Present\"]"
   ]
  },
  {
   "cell_type": "code",
   "execution_count": 6,
   "metadata": {},
   "outputs": [],
   "source": [
    "paths_img=TRAIN_PATH+df_annotations.StudyInstanceUID+\".jpg\"\n",
    "labels_img=df_annotations[targets].values\n",
    "\n",
    "from sklearn.model_selection import train_test_split\n",
    "train_paths, valid_paths, train_labels, valid_labels = train_test_split(paths_img, labels_img, test_size=0.2, random_state=42)"
   ]
  },
  {
   "cell_type": "markdown",
   "metadata": {},
   "source": [
    "# Exploration\n",
    "## Number of images per patient"
   ]
  },
  {
   "cell_type": "code",
   "execution_count": 7,
   "metadata": {},
   "outputs": [
    {
     "data": {
      "text/plain": [
       "Text(0.5, 0, 'Number of samples per patient')"
      ]
     },
     "execution_count": 7,
     "metadata": {},
     "output_type": "execute_result"
    },
    {
     "data": {
      "image/png": "[encoded data removed]",
      "text/plain": [
       "<Figure size 432x288 with 1 Axes>"
      ]
     },
     "metadata": {
      "needs_background": "light"
     },
     "output_type": "display_data"
    }
   ],
   "source": [
    "df_annotations.PatientID.value_counts().hist(bins=30)\n",
    "plt.xlabel(\"Number of samples per patient\")"
   ]
  },
  {
   "cell_type": "markdown",
   "metadata": {},
   "source": [
    "## Targets: Percentages for each case"
   ]
  },
  {
   "cell_type": "code",
   "execution_count": 8,
   "metadata": {},
   "outputs": [
    {
     "name": "stdout",
     "output_type": "stream",
     "text": [
      "ETT - Abnormal is present in 0.00% (79) of samples\n",
      "ETT - Borderline is present in 0.04% (1138) of samples\n",
      "ETT - Normal is present in 0.24% (7240) of samples\n",
      "NGT - Abnormal is present in 0.01% (279) of samples\n",
      "NGT - Borderline is present in 0.02% (529) of samples\n",
      "NGT - Incompletely Imaged is present in 0.09% (2748) of samples\n",
      "NGT - Normal is present in 0.16% (4797) of samples\n",
      "CVC - Abnormal is present in 0.11% (3195) of samples\n",
      "CVC - Borderline is present in 0.28% (8460) of samples\n",
      "CVC - Normal is present in 0.71% (21324) of samples\n",
      "Swan Ganz Catheter Present is present in 0.03% (830) of samples\n"
     ]
    }
   ],
   "source": [
    "for tgt in targets:\n",
    "    print(f\"{tgt} is present in {df_annotations[tgt].sum()/df_annotations.shape[0]:.2f}% ({df_annotations[tgt].sum()}) of samples\")"
   ]
  },
  {
   "cell_type": "markdown",
   "metadata": {},
   "source": [
    "## Targets: Coocurrence"
   ]
  },
  {
   "cell_type": "code",
   "execution_count": 9,
   "metadata": {},
   "outputs": [
    {
     "data": {
      "text/plain": [
       "Text(0.5, 0, 'Number of positive targets')"
      ]
     },
     "execution_count": 9,
     "metadata": {},
     "output_type": "execute_result"
    },
    {
     "data": {
      "image/png": "[encoded data removed]",
      "text/plain": [
       "<Figure size 432x288 with 1 Axes>"
      ]
     },
     "metadata": {
      "needs_background": "light"
     },
     "output_type": "display_data"
    }
   ],
   "source": [
    "# Number of positive targets for sample\n",
    "df_annotations[targets].sum(axis=1).value_counts().plot.bar()\n",
    "plt.xlabel(\"Number of positive targets\")"
   ]
  },
  {
   "cell_type": "markdown",
   "metadata": {},
   "source": [
    "## Targets: Coocurrence - Most frequent target combination"
   ]
  },
  {
   "cell_type": "code",
   "execution_count": 10,
   "metadata": {},
   "outputs": [
    {
     "data": {
      "text/html": [
       "<div>\n",
       "<style scoped>\n",
       "    .dataframe tbody tr th:only-of-type {\n",
       "        vertical-align: middle;\n",
       "    }\n",
       "\n",
       "    .dataframe tbody tr th {\n",
       "        vertical-align: top;\n",
       "    }\n",
       "\n",
       "    .dataframe thead th {\n",
       "        text-align: right;\n",
       "    }\n",
       "</style>\n",
       "<table border=\"1\" class=\"dataframe\">\n",
       "  <thead>\n",
       "    <tr style=\"text-align: right;\">\n",
       "      <th></th>\n",
       "      <th>all_targets</th>\n",
       "      <th>count</th>\n",
       "    </tr>\n",
       "  </thead>\n",
       "  <tbody>\n",
       "    <tr>\n",
       "      <th>0</th>\n",
       "      <td>(0, 0, 0, 0, 0, 0, 0, 0, 0, 1, 0)</td>\n",
       "      <td>12763</td>\n",
       "    </tr>\n",
       "    <tr>\n",
       "      <th>1</th>\n",
       "      <td>(0, 0, 0, 0, 0, 0, 0, 0, 1, 0, 0)</td>\n",
       "      <td>4038</td>\n",
       "    </tr>\n",
       "    <tr>\n",
       "      <th>2</th>\n",
       "      <td>(0, 0, 0, 0, 0, 0, 0, 1, 0, 0, 0)</td>\n",
       "      <td>1678</td>\n",
       "    </tr>\n",
       "    <tr>\n",
       "      <th>3</th>\n",
       "      <td>(0, 0, 1, 0, 0, 0, 1, 0, 0, 1, 0)</td>\n",
       "      <td>1428</td>\n",
       "    </tr>\n",
       "    <tr>\n",
       "      <th>4</th>\n",
       "      <td>(0, 0, 0, 0, 0, 0, 0, 0, 1, 1, 0)</td>\n",
       "      <td>973</td>\n",
       "    </tr>\n",
       "    <tr>\n",
       "      <th>...</th>\n",
       "      <td>...</td>\n",
       "      <td>...</td>\n",
       "    </tr>\n",
       "    <tr>\n",
       "      <th>206</th>\n",
       "      <td>(0, 0, 0, 0, 1, 0, 0, 1, 1, 1, 0)</td>\n",
       "      <td>1</td>\n",
       "    </tr>\n",
       "    <tr>\n",
       "      <th>207</th>\n",
       "      <td>(1, 0, 0, 0, 0, 0, 1, 0, 1, 0, 1)</td>\n",
       "      <td>1</td>\n",
       "    </tr>\n",
       "    <tr>\n",
       "      <th>208</th>\n",
       "      <td>(0, 0, 1, 0, 0, 1, 1, 0, 1, 0, 0)</td>\n",
       "      <td>1</td>\n",
       "    </tr>\n",
       "    <tr>\n",
       "      <th>209</th>\n",
       "      <td>(0, 0, 0, 1, 0, 0, 0, 1, 0, 1, 0)</td>\n",
       "      <td>1</td>\n",
       "    </tr>\n",
       "    <tr>\n",
       "      <th>210</th>\n",
       "      <td>(0, 0, 1, 0, 1, 1, 0, 0, 1, 1, 0)</td>\n",
       "      <td>1</td>\n",
       "    </tr>\n",
       "  </tbody>\n",
       "</table>\n",
       "<p>211 rows × 2 columns</p>\n",
       "</div>"
      ],
      "text/plain": [
       "                           all_targets  count\n",
       "0    (0, 0, 0, 0, 0, 0, 0, 0, 0, 1, 0)  12763\n",
       "1    (0, 0, 0, 0, 0, 0, 0, 0, 1, 0, 0)   4038\n",
       "2    (0, 0, 0, 0, 0, 0, 0, 1, 0, 0, 0)   1678\n",
       "3    (0, 0, 1, 0, 0, 0, 1, 0, 0, 1, 0)   1428\n",
       "4    (0, 0, 0, 0, 0, 0, 0, 0, 1, 1, 0)    973\n",
       "..                                 ...    ...\n",
       "206  (0, 0, 0, 0, 1, 0, 0, 1, 1, 1, 0)      1\n",
       "207  (1, 0, 0, 0, 0, 0, 1, 0, 1, 0, 1)      1\n",
       "208  (0, 0, 1, 0, 0, 1, 1, 0, 1, 0, 0)      1\n",
       "209  (0, 0, 0, 1, 0, 0, 0, 1, 0, 1, 0)      1\n",
       "210  (0, 0, 1, 0, 1, 1, 0, 0, 1, 1, 0)      1\n",
       "\n",
       "[211 rows x 2 columns]"
      ]
     },
     "execution_count": 10,
     "metadata": {},
     "output_type": "execute_result"
    }
   ],
   "source": [
    "df_annotations[\"all_targets\"]=df_annotations[targets].values.tolist()\n",
    "targets_counts=df_annotations[\"all_targets\"].apply(tuple).value_counts()\n",
    "targets_counts=targets_counts.reset_index()\n",
    "targets_counts.columns=[\"all_targets\",\"count\"]\n",
    "targets_counts"
   ]
  },
  {
   "cell_type": "code",
   "execution_count": 11,
   "metadata": {},
   "outputs": [
    {
     "data": {
      "text/html": [
       "<div>\n",
       "<style scoped>\n",
       "    .dataframe tbody tr th:only-of-type {\n",
       "        vertical-align: middle;\n",
       "    }\n",
       "\n",
       "    .dataframe tbody tr th {\n",
       "        vertical-align: top;\n",
       "    }\n",
       "\n",
       "    .dataframe thead th {\n",
       "        text-align: right;\n",
       "    }\n",
       "</style>\n",
       "<table border=\"1\" class=\"dataframe\">\n",
       "  <thead>\n",
       "    <tr style=\"text-align: right;\">\n",
       "      <th></th>\n",
       "      <th>all_targets</th>\n",
       "      <th>count</th>\n",
       "    </tr>\n",
       "  </thead>\n",
       "  <tbody>\n",
       "    <tr>\n",
       "      <th>0</th>\n",
       "      <td>CVC - Normal</td>\n",
       "      <td>12763</td>\n",
       "    </tr>\n",
       "    <tr>\n",
       "      <th>1</th>\n",
       "      <td>CVC - Borderline</td>\n",
       "      <td>4038</td>\n",
       "    </tr>\n",
       "    <tr>\n",
       "      <th>2</th>\n",
       "      <td>CVC - Abnormal</td>\n",
       "      <td>1678</td>\n",
       "    </tr>\n",
       "    <tr>\n",
       "      <th>3</th>\n",
       "      <td>ETT - Normal -- NGT - Normal -- CVC - Normal</td>\n",
       "      <td>1428</td>\n",
       "    </tr>\n",
       "    <tr>\n",
       "      <th>4</th>\n",
       "      <td>CVC - Borderline -- CVC - Normal</td>\n",
       "      <td>973</td>\n",
       "    </tr>\n",
       "  </tbody>\n",
       "</table>\n",
       "</div>"
      ],
      "text/plain": [
       "                                    all_targets  count\n",
       "0                                  CVC - Normal  12763\n",
       "1                              CVC - Borderline   4038\n",
       "2                                CVC - Abnormal   1678\n",
       "3  ETT - Normal -- NGT - Normal -- CVC - Normal   1428\n",
       "4              CVC - Borderline -- CVC - Normal    973"
      ]
     },
     "execution_count": 11,
     "metadata": {},
     "output_type": "execute_result"
    }
   ],
   "source": [
    "def get_target_string(target_bools):\n",
    "    positions=np.where(target_bools)[0]\n",
    "    return \" -- \".join([targets[pos] for pos in positions])\n",
    "\n",
    "targets_counts.all_targets=targets_counts.all_targets.apply(get_target_string)\n",
    "targets_counts.head()"
   ]
  },
  {
   "cell_type": "markdown",
   "metadata": {},
   "source": [
    "## Machine learning: Image classification - Multilabel approach"
   ]
  },
  {
   "cell_type": "code",
   "execution_count": 12,
   "metadata": {},
   "outputs": [
    {
     "name": "stdout",
     "output_type": "stream",
     "text": [
      "Tensorflow version: 2.4.0\n",
      "GPU Available: [PhysicalDevice(name='/physical_device:GPU:0', device_type='GPU')]\n"
     ]
    }
   ],
   "source": [
    "import tensorflow as tf\n",
    "print(f\"Tensorflow version: {tf.__version__}\")\n",
    "print(f\"GPU Available: {tf.config.list_physical_devices('GPU')}\")"
   ]
  },
  {
   "cell_type": "code",
   "execution_count": 13,
   "metadata": {},
   "outputs": [
    {
     "name": "stdout",
     "output_type": "stream",
     "text": [
      "Not connected to a TPU runtime. Using CPU/GPU strategy\n",
      "INFO:tensorflow:Using MirroredStrategy with devices ('/job:localhost/replica:0/task:0/device:GPU:0',)\n"
     ]
    }
   ],
   "source": [
    "# Define the strategy\n",
    "\n",
    "try:\n",
    "    tpu = tf.distribute.cluster_resolver.TPUClusterResolver()  # TPU detection\n",
    "    print(\"Running on TPU \", tpu.cluster_spec().as_dict()[\"worker\"])\n",
    "    tf.config.experimental_connect_to_cluster(tpu)\n",
    "    tf.tpu.experimental.initialize_tpu_system(tpu)\n",
    "    strategy = tf.distribute.experimental.TPUStrategy(tpu)\n",
    "    \n",
    "except ValueError:\n",
    "    print(\"Not connected to a TPU runtime. Using CPU/GPU strategy\")\n",
    "    strategy = tf.distribute.MirroredStrategy()"
   ]
  },
  {
   "cell_type": "code",
   "execution_count": 14,
   "metadata": {},
   "outputs": [
    {
     "name": "stdout",
     "output_type": "stream",
     "text": [
      "INFO:tensorflow:Reduce to /job:localhost/replica:0/task:0/device:CPU:0 then broadcast to ('/job:localhost/replica:0/task:0/device:CPU:0',).\n",
      "INFO:tensorflow:Reduce to /job:localhost/replica:0/task:0/device:CPU:0 then broadcast to ('/job:localhost/replica:0/task:0/device:CPU:0',).\n",
      "INFO:tensorflow:Reduce to /job:localhost/replica:0/task:0/device:CPU:0 then broadcast to ('/job:localhost/replica:0/task:0/device:CPU:0',).\n",
      "INFO:tensorflow:Reduce to /job:localhost/replica:0/task:0/device:CPU:0 then broadcast to ('/job:localhost/replica:0/task:0/device:CPU:0',).\n",
      "INFO:tensorflow:Reduce to /job:localhost/replica:0/task:0/device:CPU:0 then broadcast to ('/job:localhost/replica:0/task:0/device:CPU:0',).\n",
      "INFO:tensorflow:Reduce to /job:localhost/replica:0/task:0/device:CPU:0 then broadcast to ('/job:localhost/replica:0/task:0/device:CPU:0',).\n",
      "INFO:tensorflow:Reduce to /job:localhost/replica:0/task:0/device:CPU:0 then broadcast to ('/job:localhost/replica:0/task:0/device:CPU:0',).\n",
      "INFO:tensorflow:Reduce to /job:localhost/replica:0/task:0/device:CPU:0 then broadcast to ('/job:localhost/replica:0/task:0/device:CPU:0',).\n",
      "INFO:tensorflow:Reduce to /job:localhost/replica:0/task:0/device:CPU:0 then broadcast to ('/job:localhost/replica:0/task:0/device:CPU:0',).\n",
      "INFO:tensorflow:Reduce to /job:localhost/replica:0/task:0/device:CPU:0 then broadcast to ('/job:localhost/replica:0/task:0/device:CPU:0',).\n",
      "Model: \"sequential\"\n",
      "_________________________________________________________________\n",
      "Layer (type)                 Output Shape              Param #   \n",
      "=================================================================\n",
      "resnet50 (Functional)        (None, None, None, 2048)  23587712  \n",
      "_________________________________________________________________\n",
      "global_average_pooling2d (Gl (None, 2048)              0         \n",
      "_________________________________________________________________\n",
      "dense (Dense)                (None, 11)                22539     \n",
      "=================================================================\n",
      "Total params: 23,610,251\n",
      "Trainable params: 23,557,131\n",
      "Non-trainable params: 53,120\n",
      "_________________________________________________________________\n"
     ]
    }
   ],
   "source": [
    "from tensorflow.keras.applications import ResNet50, ResNet152, EfficientNetB0,EfficientNetB3, EfficientNetB7, DenseNet121\n",
    "\n",
    "# Transfer learning using different models\n",
    "\n",
    "IMG_SIZE=512\n",
    "NUM_CLASSES=len(targets)\n",
    "if MODEL_BACKBONE==\"resnet50\":backbone=ResNet50\n",
    "elif MODEL_BACKBONE==\"resnet152\": backbone=ResNet152\n",
    "elif MODEL_BACKBONE==\"efficientnetB0\": backbone=EfficientNetB0\n",
    "elif MODEL_BACKBONE==\"efficientnetB3\": backbone=EfficientNetB3\n",
    "elif MODEL_BACKBONE==\"efficientnetB7\": backbone=EfficientNetB7\n",
    "else: backbone = DenseNet121\n",
    "\n",
    "\n",
    "\n",
    "with strategy.scope():\n",
    "    model = tf.keras.Sequential([\n",
    "              tf.keras.layers.Input(shape=(IMG_SIZE, IMG_SIZE, 3)),\n",
    "              backbone(include_top=False, weights='imagenet'),\n",
    "              #tf.keras.layers.Flatten(),\n",
    "              tf.keras.layers.GlobalAveragePooling2D(), #https://datascience.stackexchange.com/questions/80072/is-flatten-layer-in-keras-necessary\n",
    "              #tf.keras.layers.Dense(128,activation='relu'),\n",
    "              tf.keras.layers.Dense(NUM_CLASSES,activation=\"sigmoid\"), # multi-label\n",
    "    ])\n",
    "    \n",
    "    #model.compile(\n",
    "    #    optimizer=\"adam\", loss=\"categorical_crossentropy\", metrics=[\"accuracy\"])\n",
    "    \n",
    "    \n",
    "\n",
    "    model.compile(\n",
    "        optimizer='adam',\n",
    "        loss='binary_crossentropy',\n",
    "        metrics=[tf.keras.metrics.AUC(multi_label=True)])\n",
    "    \n",
    "\n",
    "    \n",
    "model.summary()"
   ]
  },
  {
   "cell_type": "code",
   "execution_count": 15,
   "metadata": {},
   "outputs": [
    {
     "data": {
      "image/png": "[encoded data removed]",
      "text/plain": [
       "<IPython.core.display.Image object>"
      ]
     },
     "execution_count": 15,
     "metadata": {},
     "output_type": "execute_result"
    }
   ],
   "source": [
    "from tensorflow.keras.utils import plot_model\n",
    "plot_model(model, to_file='model.png', show_shapes=True)\n",
    "from IPython.display import Image\n",
    "Image(filename='model.png') "
   ]
  },
  {
   "cell_type": "code",
   "execution_count": 16,
   "metadata": {},
   "outputs": [],
   "source": [
    "#for layer in model.layers:\n",
    "#    if layer.name == \"efficientnetb3\":\n",
    "#        layer.trainable=False"
   ]
  },
  {
   "cell_type": "code",
   "execution_count": 17,
   "metadata": {},
   "outputs": [
    {
     "name": "stdout",
     "output_type": "stream",
     "text": [
      "Model: \"sequential\"\n",
      "_________________________________________________________________\n",
      "Layer (type)                 Output Shape              Param #   \n",
      "=================================================================\n",
      "resnet50 (Functional)        (None, None, None, 2048)  23587712  \n",
      "_________________________________________________________________\n",
      "global_average_pooling2d (Gl (None, 2048)              0         \n",
      "_________________________________________________________________\n",
      "dense (Dense)                (None, 11)                22539     \n",
      "=================================================================\n",
      "Total params: 23,610,251\n",
      "Trainable params: 23,557,131\n",
      "Non-trainable params: 53,120\n",
      "_________________________________________________________________\n"
     ]
    }
   ],
   "source": [
    "model.summary()"
   ]
  },
  {
   "cell_type": "markdown",
   "metadata": {},
   "source": [
    "### Input functions"
   ]
  },
  {
   "cell_type": "code",
   "execution_count": 18,
   "metadata": {},
   "outputs": [],
   "source": [
    "#from kaggle_datasets import KaggleDatasets\n",
    "#PATH_GCS = KaggleDatasets().get_gcs_path(\"ranzcr-clip-catheter-line-classification\")\n",
    "\n",
    "#PATH_GCS_TRAINING=PATH_GCS+\"/train_tfrecords/\"+\"*.tfrec\"\n",
    "#filenames = tf.io.gfile.glob(PATH_GCS_TRAINING)\n",
    "#raw_dataset = tf.data.TFRecordDataset(filenames)\n",
    "\n",
    "\n",
    "# Inspect a raw tfrecord\n",
    "#for raw_record in raw_dataset.take(1):\n",
    "#      print(repr(raw_record))"
   ]
  },
  {
   "cell_type": "code",
   "execution_count": 19,
   "metadata": {},
   "outputs": [],
   "source": [
    "# https://www.tensorflow.org/tutorials/load_data/tfrecord#reading_a_tfrecord_file\n",
    "# https://www.kaggle.com/venkat555/ranzcr-clip-tpu-densenet-with-kfold\n",
    "\n",
    "feature_description = {\n",
    "    \"StudyInstanceUID\"           : tf.io.FixedLenFeature([], tf.string),\n",
    "    \"image\"                      : tf.io.FixedLenFeature([], tf.string),\n",
    "    \"ETT - Abnormal\"             : tf.io.FixedLenFeature([], tf.int64), \n",
    "    \"ETT - Borderline\"           : tf.io.FixedLenFeature([], tf.int64), \n",
    "    \"ETT - Normal\"               : tf.io.FixedLenFeature([], tf.int64), \n",
    "    \"NGT - Abnormal\"             : tf.io.FixedLenFeature([], tf.int64), \n",
    "    \"NGT - Borderline\"           : tf.io.FixedLenFeature([], tf.int64), \n",
    "    \"NGT - Incompletely Imaged\"  : tf.io.FixedLenFeature([], tf.int64), \n",
    "    \"NGT - Normal\"               : tf.io.FixedLenFeature([], tf.int64), \n",
    "    \"CVC - Abnormal\"             : tf.io.FixedLenFeature([], tf.int64), \n",
    "    \"CVC - Borderline\"           : tf.io.FixedLenFeature([], tf.int64), \n",
    "    \"CVC - Normal\"               : tf.io.FixedLenFeature([], tf.int64), \n",
    "    \"Swan Ganz Catheter Present\" : tf.io.FixedLenFeature([], tf.int64),\n",
    "}\n",
    "\n",
    "def _parse_function(example_proto):\n",
    "  # Parse the input `tf.train.Example` proto using the dictionary above.\n",
    "  return tf.io.parse_single_example(example_proto, feature_description)\n",
    "\n",
    "\n",
    "def decode_image(image_data):\n",
    "    image = tf.image.decode_jpeg(image_data, channels=3)\n",
    "    image = tf.cast(image, tf.float32) / 255.0\n",
    "    #image = tf.reshape(image, [1024,1024, 3])\n",
    "    return image\n",
    "\n",
    "def input_fc_tfrecords(example_proto):\n",
    "    example = _parse_function(example_proto)\n",
    "    image = decode_image(example['image']) \n",
    "    image = tf.image.resize(image, [IMG_SIZE,IMG_SIZE])\n",
    "    \n",
    "    label=[tf.cast(example[lbl],tf.float32) for lbl in targets]\n",
    "    #label=tf.one_hot(label, len(targets))\n",
    "    \n",
    "    return image,label"
   ]
  },
  {
   "cell_type": "code",
   "execution_count": 20,
   "metadata": {},
   "outputs": [],
   "source": [
    "# Functions for plain data (no tfrecords)\n",
    "def read_image(path):\n",
    "    img=tf.io.read_file(path)\n",
    "    return img\n",
    "\n",
    "def input_fc(path,label=None):\n",
    "    image = read_image(path)\n",
    "    image = decode_image(image) \n",
    "    image = tf.image.resize(image, [IMG_SIZE,IMG_SIZE])\n",
    "    \n",
    "    #label=tf.cast(label,tf.float32)\n",
    "    #label=tf.one_hot(label, len(targets))\n",
    "    if label is None:\n",
    "        return image\n",
    "    return image,label\n"
   ]
  },
  {
   "cell_type": "code",
   "execution_count": 21,
   "metadata": {},
   "outputs": [],
   "source": [
    "# Define a basic image augmentation with tensoflow\n",
    "\n",
    "def augmentation_fc(image, label):\n",
    "    image = tf.image.random_flip_left_right(image)\n",
    "    image = tf.image.random_flip_up_down(image)\n",
    "    image = tf.image.random_brightness(image, max_delta=0.5)\n",
    "    image = tf.image.random_saturation(image, 0, 2)\n",
    "    image = tf.image.adjust_saturation(image, 3)\n",
    "    return image, label"
   ]
  },
  {
   "cell_type": "code",
   "execution_count": 22,
   "metadata": {},
   "outputs": [],
   "source": [
    "def get_dataset_tfrecords(filenames,shuffle,batch_size,mode=\"train\",augmentation=True):\n",
    "    AUTOTUNE=tf.data.experimental.AUTOTUNE\n",
    "    dataset = tf.data.TFRecordDataset(filenames, num_parallel_reads=AUTOTUNE)\n",
    "    dataset = dataset.map(input_fc_tfrecords, num_parallel_calls=AUTOTUNE)\n",
    "    if mode==\"train\": \n",
    "        if augmentation: dataset = dataset.map(augmentation_fc, num_parallel_calls=AUTOTUNE)\n",
    "        dataset = dataset.repeat()\n",
    "        dataset = dataset.shuffle(shuffle, reshuffle_each_iteration=True)\n",
    "    dataset = dataset.batch(batch_size)\n",
    "    dataset = dataset.prefetch(AUTOTUNE)\n",
    "    return dataset\n",
    "\n",
    "\n",
    "def get_dataset(filenames,labels,shuffle,batch_size,mode=\"train\",augmentation=True):\n",
    "    AUTOTUNE=tf.data.experimental.AUTOTUNE\n",
    "    if mode==\"test\":\n",
    "        slices=(filenames)\n",
    "    else:slices=(filenames,labels)\n",
    "    \n",
    "    dataset = tf.data.Dataset.from_tensor_slices(slices)\n",
    "    dataset = dataset.map(input_fc, num_parallel_calls=AUTOTUNE)\n",
    "    if mode==\"train\": \n",
    "        if augmentation: dataset = dataset.map(augmentation_fc, num_parallel_calls=AUTOTUNE)\n",
    "        dataset = dataset.repeat()\n",
    "        dataset = dataset.shuffle(shuffle, reshuffle_each_iteration=True)\n",
    "    dataset = dataset.batch(batch_size)\n",
    "    dataset = dataset.prefetch(AUTOTUNE)\n",
    "    return dataset\n",
    "\n"
   ]
  },
  {
   "cell_type": "code",
   "execution_count": 23,
   "metadata": {},
   "outputs": [
    {
     "name": "stderr",
     "output_type": "stream",
     "text": [
      "Clipping input data to the valid range for imshow with RGB data ([0..1] for floats or [0..255] for integers).\n"
     ]
    },
    {
     "name": "stdout",
     "output_type": "stream",
     "text": [
      "(1, 512, 512, 3) (1, 11)\n",
      "[[0 0 1 0 0 0 0 0 0 1 0]]\n"
     ]
    },
    {
     "data": {
      "image/png": "[encoded data removed]",
      "text/plain": [
       "<Figure size 432x288 with 1 Axes>"
      ]
     },
     "metadata": {
      "needs_background": "light"
     },
     "output_type": "display_data"
    }
   ],
   "source": [
    " for image,label in get_dataset(train_paths,train_labels,shuffle=1,batch_size=1).take(1):\n",
    "    plt.figure()\n",
    "    plt.imshow(image.numpy()[0])\n",
    "    print(image.numpy().shape, label.numpy().shape)\n",
    "    print(label.numpy())"
   ]
  },
  {
   "cell_type": "code",
   "execution_count": 24,
   "metadata": {},
   "outputs": [],
   "source": [
    "## Train - validation split and input functions\n",
    "#len(filenames)\n",
    "#filenames_train = filenames[:12]\n",
    "#filenames_val = filenames[12:]\n",
    "\n",
    "BATCH_SIZE = 128\n",
    "SHUFFLE = 8\n",
    "\n",
    "\n",
    "import re\n",
    "# From https://www.kaggle.com/venkat555/ranzcr-clip-tpu-densenet-with-kfold\n",
    "def count_data_items(filenames):\n",
    "    #the number of data items is written in the name of the .tfrec files, i.e. flowers00-230.tfrec = 230 data items\n",
    "    n = [int(re.compile(r\"-([0-9]*)\\.\").search(filename).group(1)) for filename in filenames]\n",
    "    return np.sum(n)\n",
    "    #c = 0\n",
    "    #for filename in filenames:\n",
    "    #    c += sum(1 for _ in tf.data.TFRecordDataset(filename))\n",
    "    #return c\n",
    "NUM_TRAINING_IMAGES = len(train_paths)#count_data_items(filenames_train)\n",
    "NUM_TEST_IMAGES = len(valid_paths)#count_data_items(filenames_val)\n",
    "STEPS_PER_EPOCH = NUM_TRAINING_IMAGES // BATCH_SIZE\n",
    "\n",
    "def get_train_dataset():\n",
    "    return get_dataset(train_paths,train_labels,BATCH_SIZE,SHUFFLE,augmentation=True)\n",
    "\n",
    "\n",
    "def get_val_dataset():\n",
    "    return get_dataset(valid_paths,valid_labels,BATCH_SIZE,SHUFFLE,mode=\"val\")\n",
    "\n"
   ]
  },
  {
   "cell_type": "code",
   "execution_count": 25,
   "metadata": {},
   "outputs": [
    {
     "data": {
      "text/plain": [
       "188"
      ]
     },
     "execution_count": 25,
     "metadata": {},
     "output_type": "execute_result"
    }
   ],
   "source": [
    "STEPS_PER_EPOCH"
   ]
  },
  {
   "cell_type": "code",
   "execution_count": 26,
   "metadata": {},
   "outputs": [
    {
     "name": "stdout",
     "output_type": "stream",
     "text": [
      "Epoch 1/2000\n",
      "188/188 [==============================] - 329s 2s/step - loss: 0.3613 - auc: 0.5195 - val_loss: 0.3546 - val_auc: 0.5227\n",
      "Epoch 2/2000\n",
      "188/188 [==============================] - 252s 1s/step - loss: 0.2985 - auc: 0.5356 - val_loss: 0.3351 - val_auc: 0.5267\n",
      "Epoch 3/2000\n",
      "188/188 [==============================] - 252s 1s/step - loss: 0.3069 - auc: 0.5099 - val_loss: 0.3049 - val_auc: 0.5379\n",
      "Epoch 4/2000\n",
      "188/188 [==============================] - 250s 1s/step - loss: 0.2992 - auc: 0.5251 - val_loss: 0.3809 - val_auc: 0.5122\n",
      "Epoch 5/2000\n",
      "188/188 [==============================] - 250s 1s/step - loss: 0.2957 - auc: 0.5519 - val_loss: 0.3263 - val_auc: 0.5292\n",
      "Epoch 6/2000\n",
      "188/188 [==============================] - 250s 1s/step - loss: 0.3023 - auc: 0.5406 - val_loss: 0.3235 - val_auc: 0.5960\n",
      "Epoch 7/2000\n",
      "188/188 [==============================] - 250s 1s/step - loss: 0.2924 - auc: 0.5503 - val_loss: 0.4743 - val_auc: 0.5810\n",
      "Epoch 8/2000\n",
      "188/188 [==============================] - 249s 1s/step - loss: 0.2814 - auc: 0.5780 - val_loss: 0.3381 - val_auc: 0.6005\n",
      "Epoch 9/2000\n",
      "188/188 [==============================] - 250s 1s/step - loss: 0.2872 - auc: 0.6242 - val_loss: 0.3001 - val_auc: 0.6534\n",
      "Epoch 10/2000\n",
      "188/188 [==============================] - 250s 1s/step - loss: 0.2966 - auc: 0.5708 - val_loss: 0.3736 - val_auc: 0.6384\n",
      "Epoch 11/2000\n",
      "188/188 [==============================] - 249s 1s/step - loss: 0.2671 - auc: 0.6205 - val_loss: 0.3092 - val_auc: 0.6277\n",
      "Epoch 12/2000\n",
      "188/188 [==============================] - 251s 1s/step - loss: 0.2855 - auc: 0.6172 - val_loss: 0.3056 - val_auc: 0.6541\n",
      "Epoch 13/2000\n",
      "188/188 [==============================] - 250s 1s/step - loss: 0.2741 - auc: 0.6124 - val_loss: 0.3293 - val_auc: 0.6069\n",
      "Epoch 14/2000\n",
      "188/188 [==============================] - 250s 1s/step - loss: 0.2746 - auc: 0.6562 - val_loss: 0.3017 - val_auc: 0.6717\n",
      "Epoch 15/2000\n",
      "188/188 [==============================] - 251s 1s/step - loss: 0.2762 - auc: 0.6516 - val_loss: 0.2877 - val_auc: 0.6501\n",
      "Epoch 16/2000\n",
      "188/188 [==============================] - 253s 1s/step - loss: 0.2892 - auc: 0.6111 - val_loss: 0.2721 - val_auc: 0.6752\n",
      "Epoch 17/2000\n",
      "188/188 [==============================] - 247s 1s/step - loss: 0.2708 - auc: 0.6440 - val_loss: 0.3011 - val_auc: 0.6432\n",
      "Epoch 18/2000\n",
      "188/188 [==============================] - 241s 1s/step - loss: 0.2762 - auc: 0.6286 - val_loss: 0.3031 - val_auc: 0.6647\n",
      "Epoch 19/2000\n",
      "188/188 [==============================] - 239s 1s/step - loss: 0.2762 - auc: 0.6662 - val_loss: 0.2957 - val_auc: 0.6166\n",
      "Epoch 20/2000\n",
      "188/188 [==============================] - 238s 1s/step - loss: 0.2660 - auc: 0.6511 - val_loss: 0.2626 - val_auc: 0.7113\n",
      "Epoch 21/2000\n",
      "188/188 [==============================] - 240s 1s/step - loss: 0.2731 - auc: 0.7124 - val_loss: 0.2630 - val_auc: 0.7204\n",
      "Epoch 22/2000\n",
      "188/188 [==============================] - 238s 1s/step - loss: 0.2702 - auc: 0.6813 - val_loss: 0.2612 - val_auc: 0.7156\n",
      "Epoch 23/2000\n",
      "188/188 [==============================] - 237s 1s/step - loss: 0.2599 - auc: 0.6406 - val_loss: 0.2632 - val_auc: 0.7239\n",
      "Epoch 24/2000\n",
      "188/188 [==============================] - 240s 1s/step - loss: 0.2699 - auc: 0.6729 - val_loss: 0.2604 - val_auc: 0.7268\n",
      "Epoch 25/2000\n",
      "188/188 [==============================] - 239s 1s/step - loss: 0.2709 - auc: 0.6694 - val_loss: 0.2590 - val_auc: 0.7276\n",
      "Epoch 26/2000\n",
      "188/188 [==============================] - 236s 1s/step - loss: 0.2698 - auc: 0.6881 - val_loss: 0.2596 - val_auc: 0.7236\n",
      "Epoch 27/2000\n",
      "188/188 [==============================] - 242s 1s/step - loss: 0.2522 - auc: 0.6746 - val_loss: 0.2595 - val_auc: 0.7170\n",
      "Epoch 28/2000\n",
      "188/188 [==============================] - 241s 1s/step - loss: 0.2694 - auc: 0.6985 - val_loss: 0.2615 - val_auc: 0.7253\n",
      "Epoch 29/2000\n",
      "188/188 [==============================] - 240s 1s/step - loss: 0.2692 - auc: 0.6717 - val_loss: 0.2566 - val_auc: 0.7261\n",
      "Epoch 30/2000\n",
      "188/188 [==============================] - 237s 1s/step - loss: 0.2611 - auc: 0.7063 - val_loss: 0.2568 - val_auc: 0.7332\n",
      "Epoch 31/2000\n",
      "188/188 [==============================] - 238s 1s/step - loss: 0.2538 - auc: 0.7112 - val_loss: 0.2566 - val_auc: 0.7290\n",
      "Epoch 32/2000\n",
      "188/188 [==============================] - 238s 1s/step - loss: 0.2720 - auc: 0.6863 - val_loss: 0.2563 - val_auc: 0.7245\n",
      "Epoch 33/2000\n",
      "188/188 [==============================] - 238s 1s/step - loss: 0.2687 - auc: 0.6928 - val_loss: 0.2560 - val_auc: 0.7237\n",
      "Epoch 34/2000\n",
      "188/188 [==============================] - 237s 1s/step - loss: 0.2605 - auc: 0.6558 - val_loss: 0.2560 - val_auc: 0.7242\n",
      "Epoch 35/2000\n",
      "188/188 [==============================] - 235s 1s/step - loss: 0.2554 - auc: 0.7062 - val_loss: 0.2560 - val_auc: 0.7232\n",
      "Epoch 36/2000\n",
      "188/188 [==============================] - 236s 1s/step - loss: 0.2682 - auc: 0.6450 - val_loss: 0.2560 - val_auc: 0.7247\n",
      "Epoch 37/2000\n",
      "188/188 [==============================] - 236s 1s/step - loss: 0.2648 - auc: 0.7058 - val_loss: 0.2560 - val_auc: 0.7245\n",
      "Epoch 38/2000\n",
      "188/188 [==============================] - 238s 1s/step - loss: 0.2679 - auc: 0.6799 - val_loss: 0.2560 - val_auc: 0.7239\n",
      "Epoch 39/2000\n",
      "188/188 [==============================] - 237s 1s/step - loss: 0.2572 - auc: 0.6797 - val_loss: 0.2560 - val_auc: 0.7245\n",
      "Epoch 40/2000\n",
      "188/188 [==============================] - 237s 1s/step - loss: 0.2588 - auc: 0.6516 - val_loss: 0.2560 - val_auc: 0.7238\n",
      "Epoch 41/2000\n",
      "188/188 [==============================] - 236s 1s/step - loss: 0.2682 - auc: 0.7025 - val_loss: 0.2560 - val_auc: 0.7237\n",
      "Epoch 42/2000\n",
      "188/188 [==============================] - 236s 1s/step - loss: 0.2635 - auc: 0.6683 - val_loss: 0.2560 - val_auc: 0.7293\n",
      "Epoch 43/2000\n",
      "188/188 [==============================] - 233s 1s/step - loss: 0.2511 - auc: 0.7140 - val_loss: 0.2560 - val_auc: 0.7240\n",
      "Epoch 44/2000\n",
      "188/188 [==============================] - 234s 1s/step - loss: 0.2643 - auc: 0.7061 - val_loss: 0.2559 - val_auc: 0.7241\n",
      "Epoch 45/2000\n",
      "188/188 [==============================] - 233s 1s/step - loss: 0.2632 - auc: 0.6882 - val_loss: 0.2559 - val_auc: 0.7295\n",
      "Epoch 46/2000\n",
      "188/188 [==============================] - 236s 1s/step - loss: 0.2626 - auc: 0.6972 - val_loss: 0.2560 - val_auc: 0.7246\n",
      "Epoch 47/2000\n",
      "188/188 [==============================] - 236s 1s/step - loss: 0.2626 - auc: 0.6807 - val_loss: 0.2560 - val_auc: 0.7249\n",
      "Epoch 48/2000\n",
      "188/188 [==============================] - 233s 1s/step - loss: 0.2716 - auc: 0.6720 - val_loss: 0.2559 - val_auc: 0.7246\n",
      "Epoch 49/2000\n",
      "188/188 [==============================] - 234s 1s/step - loss: 0.2595 - auc: 0.6936 - val_loss: 0.2559 - val_auc: 0.7244\n",
      "Epoch 50/2000\n",
      "188/188 [==============================] - 231s 1s/step - loss: 0.2602 - auc: 0.6766 - val_loss: 0.2559 - val_auc: 0.7238\n",
      "Epoch 51/2000\n",
      "188/188 [==============================] - 231s 1s/step - loss: 0.2588 - auc: 0.6961 - val_loss: 0.2559 - val_auc: 0.7246\n",
      "Epoch 52/2000\n",
      "188/188 [==============================] - 228s 1s/step - loss: 0.2582 - auc: 0.6875 - val_loss: 0.2559 - val_auc: 0.7247\n",
      "Epoch 53/2000\n",
      " 24/188 [==>...........................] - ETA: 1:26 - loss: 0.3067 - auc: 0.5696"
     ]
    },
    {
     "ename": "KeyboardInterrupt",
     "evalue": "",
     "output_type": "error",
     "traceback": [
      "\u001b[0;31m---------------------------------------------------------------------------\u001b[0m",
      "\u001b[0;31mKeyboardInterrupt\u001b[0m                         Traceback (most recent call last)",
      "\u001b[0;32m<timed exec>\u001b[0m in \u001b[0;36m<module>\u001b[0;34m\u001b[0m\n",
      "\u001b[0;32m/opt/conda/lib/python3.7/site-packages/tensorflow/python/keras/engine/training.py\u001b[0m in \u001b[0;36mfit\u001b[0;34m(self, x, y, batch_size, epochs, verbose, callbacks, validation_split, validation_data, shuffle, class_weight, sample_weight, initial_epoch, steps_per_epoch, validation_steps, validation_batch_size, validation_freq, max_queue_size, workers, use_multiprocessing)\u001b[0m\n\u001b[1;32m   1103\u001b[0m               \u001b[0mlogs\u001b[0m \u001b[0;34m=\u001b[0m \u001b[0mtmp_logs\u001b[0m  \u001b[0;31m# No error, now safe to assign to logs.\u001b[0m\u001b[0;34m\u001b[0m\u001b[0;34m\u001b[0m\u001b[0m\n\u001b[1;32m   1104\u001b[0m               \u001b[0mend_step\u001b[0m \u001b[0;34m=\u001b[0m \u001b[0mstep\u001b[0m \u001b[0;34m+\u001b[0m \u001b[0mdata_handler\u001b[0m\u001b[0;34m.\u001b[0m\u001b[0mstep_increment\u001b[0m\u001b[0;34m\u001b[0m\u001b[0;34m\u001b[0m\u001b[0m\n\u001b[0;32m-> 1105\u001b[0;31m               \u001b[0mcallbacks\u001b[0m\u001b[0;34m.\u001b[0m\u001b[0mon_train_batch_end\u001b[0m\u001b[0;34m(\u001b[0m\u001b[0mend_step\u001b[0m\u001b[0;34m,\u001b[0m \u001b[0mlogs\u001b[0m\u001b[0;34m)\u001b[0m\u001b[0;34m\u001b[0m\u001b[0;34m\u001b[0m\u001b[0m\n\u001b[0m\u001b[1;32m   1106\u001b[0m               \u001b[0;32mif\u001b[0m \u001b[0mself\u001b[0m\u001b[0;34m.\u001b[0m\u001b[0mstop_training\u001b[0m\u001b[0;34m:\u001b[0m\u001b[0;34m\u001b[0m\u001b[0;34m\u001b[0m\u001b[0m\n\u001b[1;32m   1107\u001b[0m                 \u001b[0;32mbreak\u001b[0m\u001b[0;34m\u001b[0m\u001b[0;34m\u001b[0m\u001b[0m\n",
      "\u001b[0;32m/opt/conda/lib/python3.7/site-packages/tensorflow/python/keras/callbacks.py\u001b[0m in \u001b[0;36mon_train_batch_end\u001b[0;34m(self, batch, logs)\u001b[0m\n\u001b[1;32m    452\u001b[0m     \"\"\"\n\u001b[1;32m    453\u001b[0m     \u001b[0;32mif\u001b[0m \u001b[0mself\u001b[0m\u001b[0;34m.\u001b[0m\u001b[0m_should_call_train_batch_hooks\u001b[0m\u001b[0;34m:\u001b[0m\u001b[0;34m\u001b[0m\u001b[0;34m\u001b[0m\u001b[0m\n\u001b[0;32m--> 454\u001b[0;31m       \u001b[0mself\u001b[0m\u001b[0;34m.\u001b[0m\u001b[0m_call_batch_hook\u001b[0m\u001b[0;34m(\u001b[0m\u001b[0mModeKeys\u001b[0m\u001b[0;34m.\u001b[0m\u001b[0mTRAIN\u001b[0m\u001b[0;34m,\u001b[0m \u001b[0;34m'end'\u001b[0m\u001b[0;34m,\u001b[0m \u001b[0mbatch\u001b[0m\u001b[0;34m,\u001b[0m \u001b[0mlogs\u001b[0m\u001b[0;34m=\u001b[0m\u001b[0mlogs\u001b[0m\u001b[0;34m)\u001b[0m\u001b[0;34m\u001b[0m\u001b[0;34m\u001b[0m\u001b[0m\n\u001b[0m\u001b[1;32m    455\u001b[0m \u001b[0;34m\u001b[0m\u001b[0m\n\u001b[1;32m    456\u001b[0m   \u001b[0;32mdef\u001b[0m \u001b[0mon_test_batch_begin\u001b[0m\u001b[0;34m(\u001b[0m\u001b[0mself\u001b[0m\u001b[0;34m,\u001b[0m \u001b[0mbatch\u001b[0m\u001b[0;34m,\u001b[0m \u001b[0mlogs\u001b[0m\u001b[0;34m=\u001b[0m\u001b[0;32mNone\u001b[0m\u001b[0;34m)\u001b[0m\u001b[0;34m:\u001b[0m\u001b[0;34m\u001b[0m\u001b[0;34m\u001b[0m\u001b[0m\n",
      "\u001b[0;32m/opt/conda/lib/python3.7/site-packages/tensorflow/python/keras/callbacks.py\u001b[0m in \u001b[0;36m_call_batch_hook\u001b[0;34m(self, mode, hook, batch, logs)\u001b[0m\n\u001b[1;32m    294\u001b[0m       \u001b[0mself\u001b[0m\u001b[0;34m.\u001b[0m\u001b[0m_call_batch_begin_hook\u001b[0m\u001b[0;34m(\u001b[0m\u001b[0mmode\u001b[0m\u001b[0;34m,\u001b[0m \u001b[0mbatch\u001b[0m\u001b[0;34m,\u001b[0m \u001b[0mlogs\u001b[0m\u001b[0;34m)\u001b[0m\u001b[0;34m\u001b[0m\u001b[0;34m\u001b[0m\u001b[0m\n\u001b[1;32m    295\u001b[0m     \u001b[0;32melif\u001b[0m \u001b[0mhook\u001b[0m \u001b[0;34m==\u001b[0m \u001b[0;34m'end'\u001b[0m\u001b[0;34m:\u001b[0m\u001b[0;34m\u001b[0m\u001b[0;34m\u001b[0m\u001b[0m\n\u001b[0;32m--> 296\u001b[0;31m       \u001b[0mself\u001b[0m\u001b[0;34m.\u001b[0m\u001b[0m_call_batch_end_hook\u001b[0m\u001b[0;34m(\u001b[0m\u001b[0mmode\u001b[0m\u001b[0;34m,\u001b[0m \u001b[0mbatch\u001b[0m\u001b[0;34m,\u001b[0m \u001b[0mlogs\u001b[0m\u001b[0;34m)\u001b[0m\u001b[0;34m\u001b[0m\u001b[0;34m\u001b[0m\u001b[0m\n\u001b[0m\u001b[1;32m    297\u001b[0m     \u001b[0;32melse\u001b[0m\u001b[0;34m:\u001b[0m\u001b[0;34m\u001b[0m\u001b[0;34m\u001b[0m\u001b[0m\n\u001b[1;32m    298\u001b[0m       \u001b[0;32mraise\u001b[0m \u001b[0mValueError\u001b[0m\u001b[0;34m(\u001b[0m\u001b[0;34m'Unrecognized hook: {}'\u001b[0m\u001b[0;34m.\u001b[0m\u001b[0mformat\u001b[0m\u001b[0;34m(\u001b[0m\u001b[0mhook\u001b[0m\u001b[0;34m)\u001b[0m\u001b[0;34m)\u001b[0m\u001b[0;34m\u001b[0m\u001b[0;34m\u001b[0m\u001b[0m\n",
      "\u001b[0;32m/opt/conda/lib/python3.7/site-packages/tensorflow/python/keras/callbacks.py\u001b[0m in \u001b[0;36m_call_batch_end_hook\u001b[0;34m(self, mode, batch, logs)\u001b[0m\n\u001b[1;32m    314\u001b[0m       \u001b[0mself\u001b[0m\u001b[0;34m.\u001b[0m\u001b[0m_batch_times\u001b[0m\u001b[0;34m.\u001b[0m\u001b[0mappend\u001b[0m\u001b[0;34m(\u001b[0m\u001b[0mbatch_time\u001b[0m\u001b[0;34m)\u001b[0m\u001b[0;34m\u001b[0m\u001b[0;34m\u001b[0m\u001b[0m\n\u001b[1;32m    315\u001b[0m \u001b[0;34m\u001b[0m\u001b[0m\n\u001b[0;32m--> 316\u001b[0;31m     \u001b[0mself\u001b[0m\u001b[0;34m.\u001b[0m\u001b[0m_call_batch_hook_helper\u001b[0m\u001b[0;34m(\u001b[0m\u001b[0mhook_name\u001b[0m\u001b[0;34m,\u001b[0m \u001b[0mbatch\u001b[0m\u001b[0;34m,\u001b[0m \u001b[0mlogs\u001b[0m\u001b[0;34m)\u001b[0m\u001b[0;34m\u001b[0m\u001b[0;34m\u001b[0m\u001b[0m\n\u001b[0m\u001b[1;32m    317\u001b[0m \u001b[0;34m\u001b[0m\u001b[0m\n\u001b[1;32m    318\u001b[0m     \u001b[0;32mif\u001b[0m \u001b[0mlen\u001b[0m\u001b[0;34m(\u001b[0m\u001b[0mself\u001b[0m\u001b[0;34m.\u001b[0m\u001b[0m_batch_times\u001b[0m\u001b[0;34m)\u001b[0m \u001b[0;34m>=\u001b[0m \u001b[0mself\u001b[0m\u001b[0;34m.\u001b[0m\u001b[0m_num_batches_for_timing_check\u001b[0m\u001b[0;34m:\u001b[0m\u001b[0;34m\u001b[0m\u001b[0;34m\u001b[0m\u001b[0m\n",
      "\u001b[0;32m/opt/conda/lib/python3.7/site-packages/tensorflow/python/keras/callbacks.py\u001b[0m in \u001b[0;36m_call_batch_hook_helper\u001b[0;34m(self, hook_name, batch, logs)\u001b[0m\n\u001b[1;32m    354\u001b[0m       \u001b[0mhook\u001b[0m \u001b[0;34m=\u001b[0m \u001b[0mgetattr\u001b[0m\u001b[0;34m(\u001b[0m\u001b[0mcallback\u001b[0m\u001b[0;34m,\u001b[0m \u001b[0mhook_name\u001b[0m\u001b[0;34m)\u001b[0m\u001b[0;34m\u001b[0m\u001b[0;34m\u001b[0m\u001b[0m\n\u001b[1;32m    355\u001b[0m       \u001b[0;32mif\u001b[0m \u001b[0mgetattr\u001b[0m\u001b[0;34m(\u001b[0m\u001b[0mcallback\u001b[0m\u001b[0;34m,\u001b[0m \u001b[0;34m'_supports_tf_logs'\u001b[0m\u001b[0;34m,\u001b[0m \u001b[0;32mFalse\u001b[0m\u001b[0;34m)\u001b[0m\u001b[0;34m:\u001b[0m\u001b[0;34m\u001b[0m\u001b[0;34m\u001b[0m\u001b[0m\n\u001b[0;32m--> 356\u001b[0;31m         \u001b[0mhook\u001b[0m\u001b[0;34m(\u001b[0m\u001b[0mbatch\u001b[0m\u001b[0;34m,\u001b[0m \u001b[0mlogs\u001b[0m\u001b[0;34m)\u001b[0m\u001b[0;34m\u001b[0m\u001b[0;34m\u001b[0m\u001b[0m\n\u001b[0m\u001b[1;32m    357\u001b[0m       \u001b[0;32melse\u001b[0m\u001b[0;34m:\u001b[0m\u001b[0;34m\u001b[0m\u001b[0;34m\u001b[0m\u001b[0m\n\u001b[1;32m    358\u001b[0m         \u001b[0;32mif\u001b[0m \u001b[0mnumpy_logs\u001b[0m \u001b[0;32mis\u001b[0m \u001b[0;32mNone\u001b[0m\u001b[0;34m:\u001b[0m  \u001b[0;31m# Only convert once.\u001b[0m\u001b[0;34m\u001b[0m\u001b[0;34m\u001b[0m\u001b[0m\n",
      "\u001b[0;32m/opt/conda/lib/python3.7/site-packages/tensorflow/python/keras/callbacks.py\u001b[0m in \u001b[0;36mon_train_batch_end\u001b[0;34m(self, batch, logs)\u001b[0m\n\u001b[1;32m   1018\u001b[0m \u001b[0;34m\u001b[0m\u001b[0m\n\u001b[1;32m   1019\u001b[0m   \u001b[0;32mdef\u001b[0m \u001b[0mon_train_batch_end\u001b[0m\u001b[0;34m(\u001b[0m\u001b[0mself\u001b[0m\u001b[0;34m,\u001b[0m \u001b[0mbatch\u001b[0m\u001b[0;34m,\u001b[0m \u001b[0mlogs\u001b[0m\u001b[0;34m=\u001b[0m\u001b[0;32mNone\u001b[0m\u001b[0;34m)\u001b[0m\u001b[0;34m:\u001b[0m\u001b[0;34m\u001b[0m\u001b[0;34m\u001b[0m\u001b[0m\n\u001b[0;32m-> 1020\u001b[0;31m     \u001b[0mself\u001b[0m\u001b[0;34m.\u001b[0m\u001b[0m_batch_update_progbar\u001b[0m\u001b[0;34m(\u001b[0m\u001b[0mbatch\u001b[0m\u001b[0;34m,\u001b[0m \u001b[0mlogs\u001b[0m\u001b[0;34m)\u001b[0m\u001b[0;34m\u001b[0m\u001b[0;34m\u001b[0m\u001b[0m\n\u001b[0m\u001b[1;32m   1021\u001b[0m \u001b[0;34m\u001b[0m\u001b[0m\n\u001b[1;32m   1022\u001b[0m   \u001b[0;32mdef\u001b[0m \u001b[0mon_test_batch_end\u001b[0m\u001b[0;34m(\u001b[0m\u001b[0mself\u001b[0m\u001b[0;34m,\u001b[0m \u001b[0mbatch\u001b[0m\u001b[0;34m,\u001b[0m \u001b[0mlogs\u001b[0m\u001b[0;34m=\u001b[0m\u001b[0;32mNone\u001b[0m\u001b[0;34m)\u001b[0m\u001b[0;34m:\u001b[0m\u001b[0;34m\u001b[0m\u001b[0;34m\u001b[0m\u001b[0m\n",
      "\u001b[0;32m/opt/conda/lib/python3.7/site-packages/tensorflow/python/keras/callbacks.py\u001b[0m in \u001b[0;36m_batch_update_progbar\u001b[0;34m(self, batch, logs)\u001b[0m\n\u001b[1;32m   1082\u001b[0m     \u001b[0;32mif\u001b[0m \u001b[0mself\u001b[0m\u001b[0;34m.\u001b[0m\u001b[0mverbose\u001b[0m \u001b[0;34m==\u001b[0m \u001b[0;36m1\u001b[0m\u001b[0;34m:\u001b[0m\u001b[0;34m\u001b[0m\u001b[0;34m\u001b[0m\u001b[0m\n\u001b[1;32m   1083\u001b[0m       \u001b[0;31m# Only block async when verbose = 1.\u001b[0m\u001b[0;34m\u001b[0m\u001b[0;34m\u001b[0m\u001b[0;34m\u001b[0m\u001b[0m\n\u001b[0;32m-> 1084\u001b[0;31m       \u001b[0mlogs\u001b[0m \u001b[0;34m=\u001b[0m \u001b[0mtf_utils\u001b[0m\u001b[0;34m.\u001b[0m\u001b[0mto_numpy_or_python_type\u001b[0m\u001b[0;34m(\u001b[0m\u001b[0mlogs\u001b[0m\u001b[0;34m)\u001b[0m\u001b[0;34m\u001b[0m\u001b[0;34m\u001b[0m\u001b[0m\n\u001b[0m\u001b[1;32m   1085\u001b[0m       \u001b[0mself\u001b[0m\u001b[0;34m.\u001b[0m\u001b[0mprogbar\u001b[0m\u001b[0;34m.\u001b[0m\u001b[0mupdate\u001b[0m\u001b[0;34m(\u001b[0m\u001b[0mself\u001b[0m\u001b[0;34m.\u001b[0m\u001b[0mseen\u001b[0m\u001b[0;34m,\u001b[0m \u001b[0mlist\u001b[0m\u001b[0;34m(\u001b[0m\u001b[0mlogs\u001b[0m\u001b[0;34m.\u001b[0m\u001b[0mitems\u001b[0m\u001b[0;34m(\u001b[0m\u001b[0;34m)\u001b[0m\u001b[0;34m)\u001b[0m\u001b[0;34m,\u001b[0m \u001b[0mfinalize\u001b[0m\u001b[0;34m=\u001b[0m\u001b[0;32mFalse\u001b[0m\u001b[0;34m)\u001b[0m\u001b[0;34m\u001b[0m\u001b[0;34m\u001b[0m\u001b[0m\n\u001b[1;32m   1086\u001b[0m \u001b[0;34m\u001b[0m\u001b[0m\n",
      "\u001b[0;32m/opt/conda/lib/python3.7/site-packages/tensorflow/python/keras/utils/tf_utils.py\u001b[0m in \u001b[0;36mto_numpy_or_python_type\u001b[0;34m(tensors)\u001b[0m\n\u001b[1;32m    512\u001b[0m     \u001b[0;32mreturn\u001b[0m \u001b[0mt\u001b[0m  \u001b[0;31m# Don't turn ragged or sparse tensors to NumPy.\u001b[0m\u001b[0;34m\u001b[0m\u001b[0;34m\u001b[0m\u001b[0m\n\u001b[1;32m    513\u001b[0m \u001b[0;34m\u001b[0m\u001b[0m\n\u001b[0;32m--> 514\u001b[0;31m   \u001b[0;32mreturn\u001b[0m \u001b[0mnest\u001b[0m\u001b[0;34m.\u001b[0m\u001b[0mmap_structure\u001b[0m\u001b[0;34m(\u001b[0m\u001b[0m_to_single_numpy_or_python_type\u001b[0m\u001b[0;34m,\u001b[0m \u001b[0mtensors\u001b[0m\u001b[0;34m)\u001b[0m\u001b[0;34m\u001b[0m\u001b[0;34m\u001b[0m\u001b[0m\n\u001b[0m\u001b[1;32m    515\u001b[0m \u001b[0;34m\u001b[0m\u001b[0m\n\u001b[1;32m    516\u001b[0m \u001b[0;34m\u001b[0m\u001b[0m\n",
      "\u001b[0;32m/opt/conda/lib/python3.7/site-packages/tensorflow/python/util/nest.py\u001b[0m in \u001b[0;36mmap_structure\u001b[0;34m(func, *structure, **kwargs)\u001b[0m\n\u001b[1;32m    657\u001b[0m \u001b[0;34m\u001b[0m\u001b[0m\n\u001b[1;32m    658\u001b[0m   return pack_sequence_as(\n\u001b[0;32m--> 659\u001b[0;31m       \u001b[0mstructure\u001b[0m\u001b[0;34m[\u001b[0m\u001b[0;36m0\u001b[0m\u001b[0;34m]\u001b[0m\u001b[0;34m,\u001b[0m \u001b[0;34m[\u001b[0m\u001b[0mfunc\u001b[0m\u001b[0;34m(\u001b[0m\u001b[0;34m*\u001b[0m\u001b[0mx\u001b[0m\u001b[0;34m)\u001b[0m \u001b[0;32mfor\u001b[0m \u001b[0mx\u001b[0m \u001b[0;32min\u001b[0m \u001b[0mentries\u001b[0m\u001b[0;34m]\u001b[0m\u001b[0;34m,\u001b[0m\u001b[0;34m\u001b[0m\u001b[0;34m\u001b[0m\u001b[0m\n\u001b[0m\u001b[1;32m    660\u001b[0m       expand_composites=expand_composites)\n\u001b[1;32m    661\u001b[0m \u001b[0;34m\u001b[0m\u001b[0m\n",
      "\u001b[0;32m/opt/conda/lib/python3.7/site-packages/tensorflow/python/util/nest.py\u001b[0m in \u001b[0;36m<listcomp>\u001b[0;34m(.0)\u001b[0m\n\u001b[1;32m    657\u001b[0m \u001b[0;34m\u001b[0m\u001b[0m\n\u001b[1;32m    658\u001b[0m   return pack_sequence_as(\n\u001b[0;32m--> 659\u001b[0;31m       \u001b[0mstructure\u001b[0m\u001b[0;34m[\u001b[0m\u001b[0;36m0\u001b[0m\u001b[0;34m]\u001b[0m\u001b[0;34m,\u001b[0m \u001b[0;34m[\u001b[0m\u001b[0mfunc\u001b[0m\u001b[0;34m(\u001b[0m\u001b[0;34m*\u001b[0m\u001b[0mx\u001b[0m\u001b[0;34m)\u001b[0m \u001b[0;32mfor\u001b[0m \u001b[0mx\u001b[0m \u001b[0;32min\u001b[0m \u001b[0mentries\u001b[0m\u001b[0;34m]\u001b[0m\u001b[0;34m,\u001b[0m\u001b[0;34m\u001b[0m\u001b[0;34m\u001b[0m\u001b[0m\n\u001b[0m\u001b[1;32m    660\u001b[0m       expand_composites=expand_composites)\n\u001b[1;32m    661\u001b[0m \u001b[0;34m\u001b[0m\u001b[0m\n",
      "\u001b[0;32m/opt/conda/lib/python3.7/site-packages/tensorflow/python/keras/utils/tf_utils.py\u001b[0m in \u001b[0;36m_to_single_numpy_or_python_type\u001b[0;34m(t)\u001b[0m\n\u001b[1;32m    508\u001b[0m   \u001b[0;32mdef\u001b[0m \u001b[0m_to_single_numpy_or_python_type\u001b[0m\u001b[0;34m(\u001b[0m\u001b[0mt\u001b[0m\u001b[0;34m)\u001b[0m\u001b[0;34m:\u001b[0m\u001b[0;34m\u001b[0m\u001b[0;34m\u001b[0m\u001b[0m\n\u001b[1;32m    509\u001b[0m     \u001b[0;32mif\u001b[0m \u001b[0misinstance\u001b[0m\u001b[0;34m(\u001b[0m\u001b[0mt\u001b[0m\u001b[0;34m,\u001b[0m \u001b[0mops\u001b[0m\u001b[0;34m.\u001b[0m\u001b[0mTensor\u001b[0m\u001b[0;34m)\u001b[0m\u001b[0;34m:\u001b[0m\u001b[0;34m\u001b[0m\u001b[0;34m\u001b[0m\u001b[0m\n\u001b[0;32m--> 510\u001b[0;31m       \u001b[0mx\u001b[0m \u001b[0;34m=\u001b[0m \u001b[0mt\u001b[0m\u001b[0;34m.\u001b[0m\u001b[0mnumpy\u001b[0m\u001b[0;34m(\u001b[0m\u001b[0;34m)\u001b[0m\u001b[0;34m\u001b[0m\u001b[0;34m\u001b[0m\u001b[0m\n\u001b[0m\u001b[1;32m    511\u001b[0m       \u001b[0;32mreturn\u001b[0m \u001b[0mx\u001b[0m\u001b[0;34m.\u001b[0m\u001b[0mitem\u001b[0m\u001b[0;34m(\u001b[0m\u001b[0;34m)\u001b[0m \u001b[0;32mif\u001b[0m \u001b[0mnp\u001b[0m\u001b[0;34m.\u001b[0m\u001b[0mndim\u001b[0m\u001b[0;34m(\u001b[0m\u001b[0mx\u001b[0m\u001b[0;34m)\u001b[0m \u001b[0;34m==\u001b[0m \u001b[0;36m0\u001b[0m \u001b[0;32melse\u001b[0m \u001b[0mx\u001b[0m\u001b[0;34m\u001b[0m\u001b[0;34m\u001b[0m\u001b[0m\n\u001b[1;32m    512\u001b[0m     \u001b[0;32mreturn\u001b[0m \u001b[0mt\u001b[0m  \u001b[0;31m# Don't turn ragged or sparse tensors to NumPy.\u001b[0m\u001b[0;34m\u001b[0m\u001b[0;34m\u001b[0m\u001b[0m\n",
      "\u001b[0;32m/opt/conda/lib/python3.7/site-packages/tensorflow/python/framework/ops.py\u001b[0m in \u001b[0;36mnumpy\u001b[0;34m(self)\u001b[0m\n\u001b[1;32m   1069\u001b[0m     \"\"\"\n\u001b[1;32m   1070\u001b[0m     \u001b[0;31m# TODO(slebedev): Consider avoiding a copy for non-CPU or remote tensors.\u001b[0m\u001b[0;34m\u001b[0m\u001b[0;34m\u001b[0m\u001b[0;34m\u001b[0m\u001b[0m\n\u001b[0;32m-> 1071\u001b[0;31m     \u001b[0mmaybe_arr\u001b[0m \u001b[0;34m=\u001b[0m \u001b[0mself\u001b[0m\u001b[0;34m.\u001b[0m\u001b[0m_numpy\u001b[0m\u001b[0;34m(\u001b[0m\u001b[0;34m)\u001b[0m  \u001b[0;31m# pylint: disable=protected-access\u001b[0m\u001b[0;34m\u001b[0m\u001b[0;34m\u001b[0m\u001b[0m\n\u001b[0m\u001b[1;32m   1072\u001b[0m     \u001b[0;32mreturn\u001b[0m \u001b[0mmaybe_arr\u001b[0m\u001b[0;34m.\u001b[0m\u001b[0mcopy\u001b[0m\u001b[0;34m(\u001b[0m\u001b[0;34m)\u001b[0m \u001b[0;32mif\u001b[0m \u001b[0misinstance\u001b[0m\u001b[0;34m(\u001b[0m\u001b[0mmaybe_arr\u001b[0m\u001b[0;34m,\u001b[0m \u001b[0mnp\u001b[0m\u001b[0;34m.\u001b[0m\u001b[0mndarray\u001b[0m\u001b[0;34m)\u001b[0m \u001b[0;32melse\u001b[0m \u001b[0mmaybe_arr\u001b[0m\u001b[0;34m\u001b[0m\u001b[0;34m\u001b[0m\u001b[0m\n\u001b[1;32m   1073\u001b[0m \u001b[0;34m\u001b[0m\u001b[0m\n",
      "\u001b[0;32m/opt/conda/lib/python3.7/site-packages/tensorflow/python/framework/ops.py\u001b[0m in \u001b[0;36m_numpy\u001b[0;34m(self)\u001b[0m\n\u001b[1;32m   1035\u001b[0m   \u001b[0;32mdef\u001b[0m \u001b[0m_numpy\u001b[0m\u001b[0;34m(\u001b[0m\u001b[0mself\u001b[0m\u001b[0;34m)\u001b[0m\u001b[0;34m:\u001b[0m\u001b[0;34m\u001b[0m\u001b[0;34m\u001b[0m\u001b[0m\n\u001b[1;32m   1036\u001b[0m     \u001b[0;32mtry\u001b[0m\u001b[0;34m:\u001b[0m\u001b[0;34m\u001b[0m\u001b[0;34m\u001b[0m\u001b[0m\n\u001b[0;32m-> 1037\u001b[0;31m       \u001b[0;32mreturn\u001b[0m \u001b[0mself\u001b[0m\u001b[0;34m.\u001b[0m\u001b[0m_numpy_internal\u001b[0m\u001b[0;34m(\u001b[0m\u001b[0;34m)\u001b[0m\u001b[0;34m\u001b[0m\u001b[0;34m\u001b[0m\u001b[0m\n\u001b[0m\u001b[1;32m   1038\u001b[0m     \u001b[0;32mexcept\u001b[0m \u001b[0mcore\u001b[0m\u001b[0;34m.\u001b[0m\u001b[0m_NotOkStatusException\u001b[0m \u001b[0;32mas\u001b[0m \u001b[0me\u001b[0m\u001b[0;34m:\u001b[0m  \u001b[0;31m# pylint: disable=protected-access\u001b[0m\u001b[0;34m\u001b[0m\u001b[0;34m\u001b[0m\u001b[0m\n\u001b[1;32m   1039\u001b[0m       \u001b[0msix\u001b[0m\u001b[0;34m.\u001b[0m\u001b[0mraise_from\u001b[0m\u001b[0;34m(\u001b[0m\u001b[0mcore\u001b[0m\u001b[0;34m.\u001b[0m\u001b[0m_status_to_exception\u001b[0m\u001b[0;34m(\u001b[0m\u001b[0me\u001b[0m\u001b[0;34m.\u001b[0m\u001b[0mcode\u001b[0m\u001b[0;34m,\u001b[0m \u001b[0me\u001b[0m\u001b[0;34m.\u001b[0m\u001b[0mmessage\u001b[0m\u001b[0;34m)\u001b[0m\u001b[0;34m,\u001b[0m \u001b[0;32mNone\u001b[0m\u001b[0;34m)\u001b[0m  \u001b[0;31m# pylint: disable=protected-access\u001b[0m\u001b[0;34m\u001b[0m\u001b[0;34m\u001b[0m\u001b[0m\n",
      "\u001b[0;31mKeyboardInterrupt\u001b[0m: "
     ]
    }
   ],
   "source": [
    "%%time\n",
    "EPOCHS=2000\n",
    "\n",
    "checkpoint = tf.keras.callbacks.ModelCheckpoint(\n",
    "    f'model-{MODEL_BACKBONE}.h5', save_best_only=True, monitor='val_auc', mode='max')\n",
    "early_stopping = tf.keras.callbacks.EarlyStopping(monitor='val_loss', \n",
    "                                                  min_delta=0, \n",
    "                                                  patience=10, verbose=1, \n",
    "                                                  restore_best_weights=True)\n",
    "lr_reducer = tf.keras.callbacks.ReduceLROnPlateau(\n",
    "    monitor=\"val_auc\", patience=3, min_lr=1e-6, mode='max')\n",
    "\n",
    "tensorboard_callback = tf.keras.callbacks.TensorBoard(\"logs\")    \n",
    "\n",
    "\n",
    "hist = model.fit(get_train_dataset(), epochs=EPOCHS,steps_per_epoch=STEPS_PER_EPOCH,\n",
    "                 validation_data=get_val_dataset(),\n",
    "                 callbacks=[checkpoint, early_stopping,lr_reducer, tensorboard_callback],\n",
    "                 )"
   ]
  },
  {
   "cell_type": "code",
   "execution_count": 52,
   "metadata": {},
   "outputs": [],
   "source": [
    "## Evaluation results\n",
    "model.load_weights(f'model-{MODEL_BACKBONE}.h5')\n",
    "\n",
    "predict_targets=model.predict(get_val_dataset())\n",
    "\n",
    "from sklearn.metrics import confusion_matrix,multilabel_confusion_matrix,ConfusionMatrixDisplay\n",
    "predict_oneh=predict_targets>0.5\n",
    "predict_oneh=predict_oneh.astype(int)\n",
    "cm = multilabel_confusion_matrix(valid_labels, predict_oneh)#, labels=targets\n",
    "#disp = ConfusionMatrixDisplay(confusion_matrix=cm,\n",
    "#                              )#display_labels=labels\n",
    "#disp.plot()"
   ]
  },
  {
   "cell_type": "code",
   "execution_count": 51,
   "metadata": {},
   "outputs": [
    {
     "data": {
      "text/plain": [
       "array([[[6009,    0],\n",
       "        [   8,    0]],\n",
       "\n",
       "       [[5789,    0],\n",
       "        [ 228,    0]],\n",
       "\n",
       "       [[4166,  419],\n",
       "        [ 614,  818]],\n",
       "\n",
       "       [[5961,    0],\n",
       "        [  56,    0]],\n",
       "\n",
       "       [[5926,    0],\n",
       "        [  91,    0]],\n",
       "\n",
       "       [[5469,    0],\n",
       "        [ 548,    0]],\n",
       "\n",
       "       [[4931,  153],\n",
       "        [ 771,  162]],\n",
       "\n",
       "       [[5375,    0],\n",
       "        [ 642,    0]],\n",
       "\n",
       "       [[4374,    0],\n",
       "        [1643,    0]],\n",
       "\n",
       "       [[   0, 1764],\n",
       "        [   0, 4253]],\n",
       "\n",
       "       [[5845,    0],\n",
       "        [ 172,    0]]])"
      ]
     },
     "execution_count": 51,
     "metadata": {},
     "output_type": "execute_result"
    }
   ],
   "source": [
    "cm"
   ]
  },
  {
   "cell_type": "code",
   "execution_count": 47,
   "metadata": {},
   "outputs": [
    {
     "data": {
      "text/plain": [
       "(6017, 11)"
      ]
     },
     "execution_count": 47,
     "metadata": {},
     "output_type": "execute_result"
    }
   ],
   "source": [
    "predict_oneh.shape"
   ]
  },
  {
   "cell_type": "code",
   "execution_count": 48,
   "metadata": {},
   "outputs": [
    {
     "data": {
      "text/plain": [
       "(6017, 11)"
      ]
     },
     "execution_count": 48,
     "metadata": {},
     "output_type": "execute_result"
    }
   ],
   "source": [
    "valid_labels.shape"
   ]
  },
  {
   "cell_type": "code",
   "execution_count": 44,
   "metadata": {},
   "outputs": [
    {
     "data": {
      "text/plain": [
       "['ETT - Abnormal',\n",
       " 'ETT - Borderline',\n",
       " 'ETT - Normal',\n",
       " 'NGT - Abnormal',\n",
       " 'NGT - Borderline',\n",
       " 'NGT - Incompletely Imaged',\n",
       " 'NGT - Normal',\n",
       " 'CVC - Abnormal',\n",
       " 'CVC - Borderline',\n",
       " 'CVC - Normal',\n",
       " 'Swan Ganz Catheter Present']"
      ]
     },
     "execution_count": 44,
     "metadata": {},
     "output_type": "execute_result"
    }
   ],
   "source": [
    "targets"
   ]
  },
  {
   "cell_type": "code",
   "execution_count": null,
   "metadata": {},
   "outputs": [],
   "source": [
    "df_test = pd.read_csv(INPUT_PATH + 'sample_submission.csv')\n",
    "test_paths = INPUT_PATH + \"test/\" + df_test['StudyInstanceUID'] + '.jpg'\n",
    "\n",
    "def get_test_dataset():\n",
    "    return get_dataset(test_paths,None,BATCH_SIZE,SHUFFLE,mode=\"test\")\n",
    "\n",
    "\n",
    "df_test[targets] = model.predict(get_test_dataset(), verbose=1)\n",
    "df_test.to_csv('submission.csv', index=False)\n",
    "\n",
    "df_test.head()"
   ]
  },
  {
   "cell_type": "code",
   "execution_count": null,
   "metadata": {},
   "outputs": [],
   "source": []
  },
  {
   "cell_type": "code",
   "execution_count": null,
   "metadata": {},
   "outputs": [],
   "source": []
  }
 ],
 "metadata": {
  "environment": {
   "name": "tf2-2-3-gpu.2-3.m59",
   "type": "gcloud",
   "uri": "gcr.io/deeplearning-platform-release/tf2-2-3-gpu.2-3:m59"
  },
  "kernelspec": {
   "display_name": "Python 3",
   "language": "python",
   "name": "python3"
  },
  "language_info": {
   "codemirror_mode": {
    "name": "ipython",
    "version": 3
   },
   "file_extension": ".py",
   "mimetype": "text/x-python",
   "name": "python",
   "nbconvert_exporter": "python",
   "pygments_lexer": "ipython3",
   "version": "3.7.8"
  }
 },
 "nbformat": 4,
 "nbformat_minor": 4
}
